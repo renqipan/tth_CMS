{
 "cells": [
  {
   "cell_type": "code",
   "execution_count": 1,
   "metadata": {},
   "outputs": [],
   "source": [
    "import pandas as pd\n",
    "from xgboost import XGBClassifier\n",
    "from sklearn.model_selection import train_test_split\n",
    "from sklearn.metrics import accuracy_score\n",
    "import pandas as pd\n",
    "import xgboost as xgb\n",
    "import numpy as np"
   ]
  },
  {
   "cell_type": "code",
   "execution_count": 2,
   "metadata": {},
   "outputs": [],
   "source": [
    "datasig=pd.read_csv(\"sig_many_values.csv\")\n",
    "databkg=pd.read_csv(\"bkg_many_values.csv\")\n",
    "databkg[\"label\"]=0\n",
    "datasig[\"label\"]=1\n",
    "\n",
    "data2=datasig.append(databkg,ignore_index=True)"
   ]
  },
  {
   "cell_type": "code",
   "execution_count": 3,
   "metadata": {},
   "outputs": [
    {
     "data": {
      "text/html": [
       "<div>\n",
       "<style scoped>\n",
       "    .dataframe tbody tr th:only-of-type {\n",
       "        vertical-align: middle;\n",
       "    }\n",
       "\n",
       "    .dataframe tbody tr th {\n",
       "        vertical-align: top;\n",
       "    }\n",
       "\n",
       "    .dataframe thead th {\n",
       "        text-align: right;\n",
       "    }\n",
       "</style>\n",
       "<table border=\"1\" class=\"dataframe\">\n",
       "  <thead>\n",
       "    <tr style=\"text-align: right;\">\n",
       "      <th></th>\n",
       "      <th>jetPt_1</th>\n",
       "      <th>jetEta_1</th>\n",
       "      <th>jetPhi_1</th>\n",
       "      <th>jetE_1</th>\n",
       "      <th>btag_1</th>\n",
       "      <th>jetPt_2</th>\n",
       "      <th>jetEta_2</th>\n",
       "      <th>jetPhi_2</th>\n",
       "      <th>jetE_2</th>\n",
       "      <th>btag_2</th>\n",
       "      <th>...</th>\n",
       "      <th>jetPt_6</th>\n",
       "      <th>jetEta_6</th>\n",
       "      <th>jetPhi_6</th>\n",
       "      <th>jetE_6</th>\n",
       "      <th>btag_6</th>\n",
       "      <th>diPhoPhi</th>\n",
       "      <th>diPhoEta</th>\n",
       "      <th>diPhoPtoM</th>\n",
       "      <th>weight</th>\n",
       "      <th>label</th>\n",
       "    </tr>\n",
       "  </thead>\n",
       "  <tbody>\n",
       "    <tr>\n",
       "      <th>0</th>\n",
       "      <td>179.1340</td>\n",
       "      <td>0.129419</td>\n",
       "      <td>-0.770991</td>\n",
       "      <td>184.053</td>\n",
       "      <td>0.920134</td>\n",
       "      <td>75.2335</td>\n",
       "      <td>-0.047224</td>\n",
       "      <td>-1.281490</td>\n",
       "      <td>76.1059</td>\n",
       "      <td>0.999764</td>\n",
       "      <td>...</td>\n",
       "      <td>37.2568</td>\n",
       "      <td>-0.299217</td>\n",
       "      <td>-1.762450</td>\n",
       "      <td>39.8590</td>\n",
       "      <td>0.032036</td>\n",
       "      <td>1.47030</td>\n",
       "      <td>0.659044</td>\n",
       "      <td>1.629320</td>\n",
       "      <td>0.000071</td>\n",
       "      <td>1</td>\n",
       "    </tr>\n",
       "    <tr>\n",
       "      <th>1</th>\n",
       "      <td>161.2780</td>\n",
       "      <td>1.071580</td>\n",
       "      <td>-0.156882</td>\n",
       "      <td>263.612</td>\n",
       "      <td>0.913174</td>\n",
       "      <td>126.8670</td>\n",
       "      <td>0.646219</td>\n",
       "      <td>2.747790</td>\n",
       "      <td>155.3490</td>\n",
       "      <td>0.999908</td>\n",
       "      <td>...</td>\n",
       "      <td>30.6574</td>\n",
       "      <td>1.363930</td>\n",
       "      <td>-0.648138</td>\n",
       "      <td>64.0560</td>\n",
       "      <td>0.032292</td>\n",
       "      <td>-3.10210</td>\n",
       "      <td>1.074770</td>\n",
       "      <td>0.598067</td>\n",
       "      <td>0.000073</td>\n",
       "      <td>1</td>\n",
       "    </tr>\n",
       "    <tr>\n",
       "      <th>2</th>\n",
       "      <td>157.1970</td>\n",
       "      <td>-0.333851</td>\n",
       "      <td>0.212655</td>\n",
       "      <td>166.653</td>\n",
       "      <td>0.005083</td>\n",
       "      <td>68.6658</td>\n",
       "      <td>-1.467650</td>\n",
       "      <td>0.122107</td>\n",
       "      <td>157.2250</td>\n",
       "      <td>0.999957</td>\n",
       "      <td>...</td>\n",
       "      <td>50.2075</td>\n",
       "      <td>-0.554880</td>\n",
       "      <td>3.135870</td>\n",
       "      <td>58.4124</td>\n",
       "      <td>0.956340</td>\n",
       "      <td>2.64547</td>\n",
       "      <td>-0.449345</td>\n",
       "      <td>1.746590</td>\n",
       "      <td>0.000053</td>\n",
       "      <td>1</td>\n",
       "    </tr>\n",
       "    <tr>\n",
       "      <th>3</th>\n",
       "      <td>143.9920</td>\n",
       "      <td>-0.899087</td>\n",
       "      <td>-0.825905</td>\n",
       "      <td>206.971</td>\n",
       "      <td>0.993589</td>\n",
       "      <td>112.7960</td>\n",
       "      <td>0.119058</td>\n",
       "      <td>0.629660</td>\n",
       "      <td>114.7540</td>\n",
       "      <td>0.132374</td>\n",
       "      <td>...</td>\n",
       "      <td>30.1873</td>\n",
       "      <td>-0.606200</td>\n",
       "      <td>0.356470</td>\n",
       "      <td>36.3707</td>\n",
       "      <td>0.217502</td>\n",
       "      <td>2.49579</td>\n",
       "      <td>-0.719844</td>\n",
       "      <td>2.053300</td>\n",
       "      <td>0.000010</td>\n",
       "      <td>1</td>\n",
       "    </tr>\n",
       "    <tr>\n",
       "      <th>4</th>\n",
       "      <td>85.5433</td>\n",
       "      <td>0.699251</td>\n",
       "      <td>-2.586590</td>\n",
       "      <td>108.438</td>\n",
       "      <td>0.999996</td>\n",
       "      <td>74.1270</td>\n",
       "      <td>0.099549</td>\n",
       "      <td>-0.422806</td>\n",
       "      <td>75.8854</td>\n",
       "      <td>0.054680</td>\n",
       "      <td>...</td>\n",
       "      <td>33.7513</td>\n",
       "      <td>-1.301440</td>\n",
       "      <td>2.364960</td>\n",
       "      <td>66.7972</td>\n",
       "      <td>0.059545</td>\n",
       "      <td>2.53021</td>\n",
       "      <td>-1.809120</td>\n",
       "      <td>0.284786</td>\n",
       "      <td>0.000089</td>\n",
       "      <td>1</td>\n",
       "    </tr>\n",
       "  </tbody>\n",
       "</table>\n",
       "<p>5 rows × 35 columns</p>\n",
       "</div>"
      ],
      "text/plain": [
       "    jetPt_1   jetEta_1   jetPhi_1   jetE_1    btag_1   jetPt_2   jetEta_2  \\\n",
       "0  179.1340   0.129419  -0.770991  184.053  0.920134   75.2335  -0.047224   \n",
       "1  161.2780   1.071580  -0.156882  263.612  0.913174  126.8670   0.646219   \n",
       "2  157.1970  -0.333851   0.212655  166.653  0.005083   68.6658  -1.467650   \n",
       "3  143.9920  -0.899087  -0.825905  206.971  0.993589  112.7960   0.119058   \n",
       "4   85.5433   0.699251  -2.586590  108.438  0.999996   74.1270   0.099549   \n",
       "\n",
       "    jetPhi_2    jetE_2    btag_2  ...   jetPt_6   jetEta_6   jetPhi_6  \\\n",
       "0  -1.281490   76.1059  0.999764  ...   37.2568  -0.299217  -1.762450   \n",
       "1   2.747790  155.3490  0.999908  ...   30.6574   1.363930  -0.648138   \n",
       "2   0.122107  157.2250  0.999957  ...   50.2075  -0.554880   3.135870   \n",
       "3   0.629660  114.7540  0.132374  ...   30.1873  -0.606200   0.356470   \n",
       "4  -0.422806   75.8854  0.054680  ...   33.7513  -1.301440   2.364960   \n",
       "\n",
       "    jetE_6    btag_6   diPhoPhi   diPhoEta   diPhoPtoM    weight  label  \n",
       "0  39.8590  0.032036    1.47030   0.659044    1.629320  0.000071      1  \n",
       "1  64.0560  0.032292   -3.10210   1.074770    0.598067  0.000073      1  \n",
       "2  58.4124  0.956340    2.64547  -0.449345    1.746590  0.000053      1  \n",
       "3  36.3707  0.217502    2.49579  -0.719844    2.053300  0.000010      1  \n",
       "4  66.7972  0.059545    2.53021  -1.809120    0.284786  0.000089      1  \n",
       "\n",
       "[5 rows x 35 columns]"
      ]
     },
     "execution_count": 3,
     "metadata": {},
     "output_type": "execute_result"
    }
   ],
   "source": [
    "data2.shape\n",
    "data2.head()"
   ]
  },
  {
   "cell_type": "code",
   "execution_count": 4,
   "metadata": {},
   "outputs": [],
   "source": [
    "X,Y=data2.iloc[:,:-2],data2.iloc[:,-1]\n",
    "weights=data2.iloc[:,-2]\n",
    "X_train, X_test, y_train, y_test,weight_train,weight_test= train_test_split(X, Y,weights,test_size=0.4, random_state=7)"
   ]
  },
  {
   "cell_type": "code",
   "execution_count": 5,
   "metadata": {},
   "outputs": [],
   "source": [
    "weight_train=weight_train*10\n",
    "weight_test=weight_test*10\n",
    "weight_train=np.asarray(weight_train)\n",
    "weight_test=np.asarray(weight_test)\n",
    "y_test=np.asarray(y_test)\n",
    "y_train=np.asarray(y_train)"
   ]
  },
  {
   "cell_type": "code",
   "execution_count": 6,
   "metadata": {},
   "outputs": [
    {
     "data": {
      "text/plain": [
       "array([6.28838e-04, 8.64284e-04, 7.44259e-04, ..., 7.04554e-04,\n",
       "       4.63276e-05, 7.76872e-04])"
      ]
     },
     "execution_count": 6,
     "metadata": {},
     "output_type": "execute_result"
    }
   ],
   "source": [
    "weight_train"
   ]
  },
  {
   "cell_type": "code",
   "execution_count": 7,
   "metadata": {},
   "outputs": [
    {
     "name": "stdout",
     "output_type": "stream",
     "text": [
      "Accuracy: 64.86%\n"
     ]
    }
   ],
   "source": [
    "# fit model no training data\n",
    "model = XGBClassifier()\n",
    "model.fit(X_train, y_train,sample_weight=weight_train)\n",
    "# make predictions for test data\n",
    "y_pred = model.predict(X_test)\n",
    "predictions = [round(value) for value in y_pred]\n",
    "# evaluate predictions\n",
    "accuracy = accuracy_score(y_test, predictions)\n",
    "print(\"Accuracy: %.2f%%\" % (accuracy * 100.0))"
   ]
  },
  {
   "cell_type": "code",
   "execution_count": 8,
   "metadata": {},
   "outputs": [
    {
     "data": {
      "text/plain": [
       "array([1, 0, 0, ..., 0, 0, 0])"
      ]
     },
     "execution_count": 8,
     "metadata": {},
     "output_type": "execute_result"
    }
   ],
   "source": [
    "y_pred"
   ]
  },
  {
   "cell_type": "code",
   "execution_count": 9,
   "metadata": {},
   "outputs": [],
   "source": [
    "from sklearn.metrics import roc_curve\n",
    "from sklearn.metrics import roc_auc_score\n",
    "from matplotlib import pyplot as plt"
   ]
  },
  {
   "cell_type": "code",
   "execution_count": 10,
   "metadata": {},
   "outputs": [
    {
     "name": "stdout",
     "output_type": "stream",
     "text": [
      "AUC: 0.693\n"
     ]
    },
    {
     "data": {
      "image/png": "[encoded data removed]",
      "text/plain": [
       "<Figure size 576x576 with 1 Axes>"
      ]
     },
     "metadata": {
      "needs_background": "light"
     },
     "output_type": "display_data"
    }
   ],
   "source": [
    "probs = model.predict_proba(X_test)\n",
    "# keep probabilities for the positive outcome only\n",
    "probs = probs[:, 1]\n",
    "# calculate AUC\n",
    "auc = roc_auc_score(y_test, probs,sample_weight=weight_test)\n",
    "print('AUC: %.3f' % auc)\n",
    "# calculate roc curve\n",
    "fpr, tpr, thresholds = roc_curve(y_test, probs,sample_weight=weight_test)\n",
    "# plot the roc curve for the model\n",
    "plt.figure(figsize=(8,8))\n",
    "plt.plot(tpr, 1-fpr,linewidth=2)\n",
    "# show the plot\n",
    "plt.xlabel(\"sensitivity\",fontsize=14)\n",
    "plt.ylabel(\"specificity\",fontsize=14)\n",
    "plt.tick_params(axis=\"both\",labelsize=14)\n",
    "plt.show()"
   ]
  },
  {
   "cell_type": "code",
   "execution_count": 11,
   "metadata": {},
   "outputs": [],
   "source": [
    "filename=\"xgboost_weight.CSV\"\n",
    "with open(filename,\"w\") as file:\n",
    "    for kk in range(tpr.size):\n",
    "        file.write(str(fpr[kk]))\n",
    "        file.write(\" \")\n",
    "        file.write(str(tpr[kk]))\n",
    "        file.write(\"\\n\")"
   ]
  },
  {
   "cell_type": "code",
   "execution_count": 12,
   "metadata": {},
   "outputs": [
    {
     "data": {
      "text/plain": [
       "60470"
      ]
     },
     "execution_count": 12,
     "metadata": {},
     "output_type": "execute_result"
    }
   ],
   "source": [
    "fpr.size"
   ]
  },
  {
   "cell_type": "code",
   "execution_count": 13,
   "metadata": {},
   "outputs": [
    {
     "data": {
      "text/plain": [
       "60470"
      ]
     },
     "execution_count": 13,
     "metadata": {},
     "output_type": "execute_result"
    }
   ],
   "source": [
    "tpr.size"
   ]
  },
  {
   "cell_type": "code",
   "execution_count": 14,
   "metadata": {},
   "outputs": [],
   "source": [
    "sig_probs=[]\n",
    "bkg_probs=[]\n",
    "for index in range(y_test.shape[0]):\n",
    "    if(y_test[index]==1.0):\n",
    "        sig_probs.append(probs[index])\n",
    "    else:\n",
    "        bkg_probs.append(probs[index])"
   ]
  },
  {
   "cell_type": "code",
   "execution_count": 18,
   "metadata": {},
   "outputs": [
    {
     "data": {
      "image/png": "[encoded data removed]",
      "text/plain": [
       "<Figure size 864x864 with 1 Axes>"
      ]
     },
     "metadata": {
      "needs_background": "light"
     },
     "output_type": "display_data"
    }
   ],
   "source": [
    "plt.figure(3)\n",
    "plt.rcParams['figure.figsize'] = [12, 12]\n",
    "\n",
    "plt.hist(sig_probs,bins=100,density=True,alpha=0.6,label=\"CP:Even\");\n",
    "plt.hist(bkg_probs,bins=100,density=True,alpha=0.6,label=\"CP:Odd\");\n",
    "plt.legend(loc='upper right',fontsize=24)\n",
    "plt.xlabel(\"xgboost response\",fontsize=24)\n",
    "plt.ylabel(\"Desity\",fontsize=24)\n",
    "plt.xticks(fontsize=18)\n",
    "plt.yticks(fontsize=18)\n",
    "plt.savefig('tth_xgboost_output.png')\n",
    "plt.show()"
   ]
  },
  {
   "cell_type": "code",
   "execution_count": 16,
   "metadata": {},
   "outputs": [
    {
     "data": {
      "text/plain": [
       "array([1.7473562 , 0.7473561 , 0.7472784 , ..., 0.16087434, 0.15996541,\n",
       "       0.15464835], dtype=float32)"
      ]
     },
     "execution_count": 16,
     "metadata": {},
     "output_type": "execute_result"
    }
   ],
   "source": [
    "thresholds"
   ]
  },
  {
   "cell_type": "code",
   "execution_count": null,
   "metadata": {},
   "outputs": [],
   "source": []
  },
  {
   "cell_type": "code",
   "execution_count": null,
   "metadata": {},
   "outputs": [],
   "source": []
  }
 ],
 "metadata": {
  "kernelspec": {
   "display_name": "Python 3",
   "language": "python",
   "name": "python3"
  },
  "language_info": {
   "codemirror_mode": {
    "name": "ipython",
    "version": 3
   },
   "file_extension": ".py",
   "mimetype": "text/x-python",
   "name": "python",
   "nbconvert_exporter": "python",
   "pygments_lexer": "ipython3",
   "version": "3.7.3"
  }
 },
 "nbformat": 4,
 "nbformat_minor": 2
}

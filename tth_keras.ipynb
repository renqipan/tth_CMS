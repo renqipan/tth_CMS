{
 "cells": [
  {
   "cell_type": "code",
   "execution_count": 1,
   "metadata": {},
   "outputs": [],
   "source": [
    "from sklearn.model_selection import train_test_split\n",
    "import pandas as pd\n",
    "import numpy as np\n"
   ]
  },
  {
   "cell_type": "code",
   "execution_count": 2,
   "metadata": {},
   "outputs": [],
   "source": [
    "datasig=pd.read_csv(\"sig_many_values.csv\")\n",
    "databkg=pd.read_csv(\"bkg_many_values.csv\")"
   ]
  },
  {
   "cell_type": "code",
   "execution_count": 3,
   "metadata": {},
   "outputs": [
    {
     "data": {
      "text/plain": [
       "(67263, 34)"
      ]
     },
     "execution_count": 3,
     "metadata": {},
     "output_type": "execute_result"
    }
   ],
   "source": [
    "datasig.shape"
   ]
  },
  {
   "cell_type": "code",
   "execution_count": 4,
   "metadata": {},
   "outputs": [
    {
     "data": {
      "text/plain": [
       "(84499, 34)"
      ]
     },
     "execution_count": 4,
     "metadata": {},
     "output_type": "execute_result"
    }
   ],
   "source": [
    "databkg.shape"
   ]
  },
  {
   "cell_type": "code",
   "execution_count": 5,
   "metadata": {},
   "outputs": [],
   "source": [
    "datasig[\"label\"]=1\n",
    "databkg[\"label\"]=0"
   ]
  },
  {
   "cell_type": "code",
   "execution_count": 6,
   "metadata": {},
   "outputs": [],
   "source": [
    "data2=datasig.append(databkg,ignore_index=True)"
   ]
  },
  {
   "cell_type": "code",
   "execution_count": 7,
   "metadata": {},
   "outputs": [
    {
     "data": {
      "text/plain": [
       "(151762, 35)"
      ]
     },
     "execution_count": 7,
     "metadata": {},
     "output_type": "execute_result"
    }
   ],
   "source": [
    "data2.shape\n"
   ]
  },
  {
   "cell_type": "code",
   "execution_count": 8,
   "metadata": {},
   "outputs": [
    {
     "data": {
      "text/html": [
       "<div>\n",
       "<style scoped>\n",
       "    .dataframe tbody tr th:only-of-type {\n",
       "        vertical-align: middle;\n",
       "    }\n",
       "\n",
       "    .dataframe tbody tr th {\n",
       "        vertical-align: top;\n",
       "    }\n",
       "\n",
       "    .dataframe thead th {\n",
       "        text-align: right;\n",
       "    }\n",
       "</style>\n",
       "<table border=\"1\" class=\"dataframe\">\n",
       "  <thead>\n",
       "    <tr style=\"text-align: right;\">\n",
       "      <th></th>\n",
       "      <th>jetPt_1</th>\n",
       "      <th>jetEta_1</th>\n",
       "      <th>jetPhi_1</th>\n",
       "      <th>jetE_1</th>\n",
       "      <th>btag_1</th>\n",
       "      <th>jetPt_2</th>\n",
       "      <th>jetEta_2</th>\n",
       "      <th>jetPhi_2</th>\n",
       "      <th>jetE_2</th>\n",
       "      <th>btag_2</th>\n",
       "      <th>...</th>\n",
       "      <th>jetPt_6</th>\n",
       "      <th>jetEta_6</th>\n",
       "      <th>jetPhi_6</th>\n",
       "      <th>jetE_6</th>\n",
       "      <th>btag_6</th>\n",
       "      <th>diPhoPhi</th>\n",
       "      <th>diPhoEta</th>\n",
       "      <th>diPhoPtoM</th>\n",
       "      <th>weight</th>\n",
       "      <th>label</th>\n",
       "    </tr>\n",
       "  </thead>\n",
       "  <tbody>\n",
       "    <tr>\n",
       "      <th>0</th>\n",
       "      <td>179.1340</td>\n",
       "      <td>0.129419</td>\n",
       "      <td>-0.770991</td>\n",
       "      <td>184.053</td>\n",
       "      <td>0.920134</td>\n",
       "      <td>75.2335</td>\n",
       "      <td>-0.047224</td>\n",
       "      <td>-1.281490</td>\n",
       "      <td>76.1059</td>\n",
       "      <td>0.999764</td>\n",
       "      <td>...</td>\n",
       "      <td>37.2568</td>\n",
       "      <td>-0.299217</td>\n",
       "      <td>-1.762450</td>\n",
       "      <td>39.8590</td>\n",
       "      <td>0.032036</td>\n",
       "      <td>1.47030</td>\n",
       "      <td>0.659044</td>\n",
       "      <td>1.629320</td>\n",
       "      <td>0.000071</td>\n",
       "      <td>1</td>\n",
       "    </tr>\n",
       "    <tr>\n",
       "      <th>1</th>\n",
       "      <td>161.2780</td>\n",
       "      <td>1.071580</td>\n",
       "      <td>-0.156882</td>\n",
       "      <td>263.612</td>\n",
       "      <td>0.913174</td>\n",
       "      <td>126.8670</td>\n",
       "      <td>0.646219</td>\n",
       "      <td>2.747790</td>\n",
       "      <td>155.3490</td>\n",
       "      <td>0.999908</td>\n",
       "      <td>...</td>\n",
       "      <td>30.6574</td>\n",
       "      <td>1.363930</td>\n",
       "      <td>-0.648138</td>\n",
       "      <td>64.0560</td>\n",
       "      <td>0.032292</td>\n",
       "      <td>-3.10210</td>\n",
       "      <td>1.074770</td>\n",
       "      <td>0.598067</td>\n",
       "      <td>0.000073</td>\n",
       "      <td>1</td>\n",
       "    </tr>\n",
       "    <tr>\n",
       "      <th>2</th>\n",
       "      <td>157.1970</td>\n",
       "      <td>-0.333851</td>\n",
       "      <td>0.212655</td>\n",
       "      <td>166.653</td>\n",
       "      <td>0.005083</td>\n",
       "      <td>68.6658</td>\n",
       "      <td>-1.467650</td>\n",
       "      <td>0.122107</td>\n",
       "      <td>157.2250</td>\n",
       "      <td>0.999957</td>\n",
       "      <td>...</td>\n",
       "      <td>50.2075</td>\n",
       "      <td>-0.554880</td>\n",
       "      <td>3.135870</td>\n",
       "      <td>58.4124</td>\n",
       "      <td>0.956340</td>\n",
       "      <td>2.64547</td>\n",
       "      <td>-0.449345</td>\n",
       "      <td>1.746590</td>\n",
       "      <td>0.000053</td>\n",
       "      <td>1</td>\n",
       "    </tr>\n",
       "    <tr>\n",
       "      <th>3</th>\n",
       "      <td>143.9920</td>\n",
       "      <td>-0.899087</td>\n",
       "      <td>-0.825905</td>\n",
       "      <td>206.971</td>\n",
       "      <td>0.993589</td>\n",
       "      <td>112.7960</td>\n",
       "      <td>0.119058</td>\n",
       "      <td>0.629660</td>\n",
       "      <td>114.7540</td>\n",
       "      <td>0.132374</td>\n",
       "      <td>...</td>\n",
       "      <td>30.1873</td>\n",
       "      <td>-0.606200</td>\n",
       "      <td>0.356470</td>\n",
       "      <td>36.3707</td>\n",
       "      <td>0.217502</td>\n",
       "      <td>2.49579</td>\n",
       "      <td>-0.719844</td>\n",
       "      <td>2.053300</td>\n",
       "      <td>0.000010</td>\n",
       "      <td>1</td>\n",
       "    </tr>\n",
       "    <tr>\n",
       "      <th>4</th>\n",
       "      <td>85.5433</td>\n",
       "      <td>0.699251</td>\n",
       "      <td>-2.586590</td>\n",
       "      <td>108.438</td>\n",
       "      <td>0.999996</td>\n",
       "      <td>74.1270</td>\n",
       "      <td>0.099549</td>\n",
       "      <td>-0.422806</td>\n",
       "      <td>75.8854</td>\n",
       "      <td>0.054680</td>\n",
       "      <td>...</td>\n",
       "      <td>33.7513</td>\n",
       "      <td>-1.301440</td>\n",
       "      <td>2.364960</td>\n",
       "      <td>66.7972</td>\n",
       "      <td>0.059545</td>\n",
       "      <td>2.53021</td>\n",
       "      <td>-1.809120</td>\n",
       "      <td>0.284786</td>\n",
       "      <td>0.000089</td>\n",
       "      <td>1</td>\n",
       "    </tr>\n",
       "  </tbody>\n",
       "</table>\n",
       "<p>5 rows × 35 columns</p>\n",
       "</div>"
      ],
      "text/plain": [
       "    jetPt_1   jetEta_1   jetPhi_1   jetE_1    btag_1   jetPt_2   jetEta_2  \\\n",
       "0  179.1340   0.129419  -0.770991  184.053  0.920134   75.2335  -0.047224   \n",
       "1  161.2780   1.071580  -0.156882  263.612  0.913174  126.8670   0.646219   \n",
       "2  157.1970  -0.333851   0.212655  166.653  0.005083   68.6658  -1.467650   \n",
       "3  143.9920  -0.899087  -0.825905  206.971  0.993589  112.7960   0.119058   \n",
       "4   85.5433   0.699251  -2.586590  108.438  0.999996   74.1270   0.099549   \n",
       "\n",
       "    jetPhi_2    jetE_2    btag_2  ...   jetPt_6   jetEta_6   jetPhi_6  \\\n",
       "0  -1.281490   76.1059  0.999764  ...   37.2568  -0.299217  -1.762450   \n",
       "1   2.747790  155.3490  0.999908  ...   30.6574   1.363930  -0.648138   \n",
       "2   0.122107  157.2250  0.999957  ...   50.2075  -0.554880   3.135870   \n",
       "3   0.629660  114.7540  0.132374  ...   30.1873  -0.606200   0.356470   \n",
       "4  -0.422806   75.8854  0.054680  ...   33.7513  -1.301440   2.364960   \n",
       "\n",
       "    jetE_6    btag_6   diPhoPhi   diPhoEta   diPhoPtoM    weight  label  \n",
       "0  39.8590  0.032036    1.47030   0.659044    1.629320  0.000071      1  \n",
       "1  64.0560  0.032292   -3.10210   1.074770    0.598067  0.000073      1  \n",
       "2  58.4124  0.956340    2.64547  -0.449345    1.746590  0.000053      1  \n",
       "3  36.3707  0.217502    2.49579  -0.719844    2.053300  0.000010      1  \n",
       "4  66.7972  0.059545    2.53021  -1.809120    0.284786  0.000089      1  \n",
       "\n",
       "[5 rows x 35 columns]"
      ]
     },
     "execution_count": 8,
     "metadata": {},
     "output_type": "execute_result"
    }
   ],
   "source": [
    "data2.head()"
   ]
  },
  {
   "cell_type": "code",
   "execution_count": 9,
   "metadata": {},
   "outputs": [],
   "source": [
    "X=data2.iloc[:,:-2]\n",
    "Y=data2.iloc[:,-1]\n",
    "weights=data2.iloc[:,-2]"
   ]
  },
  {
   "cell_type": "code",
   "execution_count": 10,
   "metadata": {},
   "outputs": [],
   "source": [
    "X_train, X_test, y_train, y_test,weight_train,weight_test = train_test_split(X, Y,weights, test_size=0.3, random_state=7)"
   ]
  },
  {
   "cell_type": "code",
   "execution_count": 11,
   "metadata": {},
   "outputs": [],
   "source": [
    "X_train=np.asarray(X_train).astype('float32')\n",
    "X_test=np.asarray(X_test).astype('float32')\n",
    "y_train=np.asarray(y_train).astype('float32')\n",
    "y_test=np.asarray(y_test).astype('float32')\n",
    "weight_train=weight_train\n",
    "weight_test=weight_test\n",
    "weight_test=np.asarray(weight_test).astype(\"float32\")\n",
    "weight_train=np.asarray(weight_train).astype(\"float32\")\n"
   ]
  },
  {
   "cell_type": "code",
   "execution_count": 12,
   "metadata": {},
   "outputs": [
    {
     "data": {
      "text/plain": [
       "array([5.01296e-07, 7.53136e-05, 4.80751e-05, ..., 7.04554e-05,\n",
       "       4.63276e-06, 7.76872e-05], dtype=float32)"
      ]
     },
     "execution_count": 12,
     "metadata": {},
     "output_type": "execute_result"
    }
   ],
   "source": [
    "weight_train"
   ]
  },
  {
   "cell_type": "code",
   "execution_count": 13,
   "metadata": {},
   "outputs": [],
   "source": [
    "ndim=X.shape[1]"
   ]
  },
  {
   "cell_type": "code",
   "execution_count": 14,
   "metadata": {},
   "outputs": [
    {
     "name": "stderr",
     "output_type": "stream",
     "text": [
      "Using TensorFlow backend.\n"
     ]
    }
   ],
   "source": [
    "from keras import models\n",
    "from keras import layers\n",
    "from keras import optimizers"
   ]
  },
  {
   "cell_type": "code",
   "execution_count": 15,
   "metadata": {
    "scrolled": true
   },
   "outputs": [
    {
     "name": "stdout",
     "output_type": "stream",
     "text": [
      "WARNING:tensorflow:From /home/renqi/.local/lib/python3.7/site-packages/tensorflow/python/framework/op_def_library.py:263: colocate_with (from tensorflow.python.framework.ops) is deprecated and will be removed in a future version.\n",
      "Instructions for updating:\n",
      "Colocations handled automatically by placer.\n"
     ]
    }
   ],
   "source": [
    "model = models.Sequential()\n",
    "model.add(layers.Dense(16, activation='relu', input_shape=(ndim,)))\n",
    "model.add(layers.Dense(16, activation='relu'))\n",
    "model.add(layers.Dense(16, activation='relu'))\n",
    "model.add(layers.Dense(1, activation='sigmoid'))"
   ]
  },
  {
   "cell_type": "code",
   "execution_count": 16,
   "metadata": {},
   "outputs": [],
   "source": [
    "model.compile(optimizer=optimizers.RMSprop(lr=0.001),loss='binary_crossentropy',metrics=['accuracy'])"
   ]
  },
  {
   "cell_type": "code",
   "execution_count": 17,
   "metadata": {
    "scrolled": true
   },
   "outputs": [
    {
     "name": "stdout",
     "output_type": "stream",
     "text": [
      "WARNING:tensorflow:From /home/renqi/.local/lib/python3.7/site-packages/tensorflow/python/ops/math_ops.py:3066: to_int32 (from tensorflow.python.ops.math_ops) is deprecated and will be removed in a future version.\n",
      "Instructions for updating:\n",
      "Use tf.cast instead.\n",
      "Train on 106233 samples, validate on 45529 samples\n",
      "Epoch 1/40\n",
      "106233/106233 [==============================] - 0s 4us/step - loss: 9.4728e-05 - acc: 0.5190 - val_loss: 6.5674e-05 - val_acc: 0.5012\n",
      "Epoch 2/40\n",
      "106233/106233 [==============================] - 0s 2us/step - loss: 6.3614e-05 - acc: 0.5242 - val_loss: 6.4328e-05 - val_acc: 0.5472\n",
      "Epoch 3/40\n",
      "106233/106233 [==============================] - 0s 2us/step - loss: 5.8076e-05 - acc: 0.5299 - val_loss: 6.7377e-05 - val_acc: 0.5563\n",
      "Epoch 4/40\n",
      "106233/106233 [==============================] - 0s 2us/step - loss: 5.5075e-05 - acc: 0.5314 - val_loss: 5.3023e-05 - val_acc: 0.5118\n",
      "Epoch 5/40\n",
      "106233/106233 [==============================] - 0s 2us/step - loss: 5.2394e-05 - acc: 0.5410 - val_loss: 5.1509e-05 - val_acc: 0.5227\n",
      "Epoch 6/40\n",
      "106233/106233 [==============================] - 0s 2us/step - loss: 5.0868e-05 - acc: 0.5447 - val_loss: 5.1218e-05 - val_acc: 0.5640\n",
      "Epoch 7/40\n",
      "106233/106233 [==============================] - 0s 2us/step - loss: 4.9863e-05 - acc: 0.5522 - val_loss: 5.2268e-05 - val_acc: 0.5009\n",
      "Epoch 8/40\n",
      "106233/106233 [==============================] - 0s 2us/step - loss: 4.9384e-05 - acc: 0.5588 - val_loss: 4.9095e-05 - val_acc: 0.5557\n",
      "Epoch 9/40\n",
      "106233/106233 [==============================] - 0s 2us/step - loss: 4.8937e-05 - acc: 0.5656 - val_loss: 4.8151e-05 - val_acc: 0.5787\n",
      "Epoch 10/40\n",
      "106233/106233 [==============================] - 0s 2us/step - loss: 4.8635e-05 - acc: 0.5698 - val_loss: 4.8193e-05 - val_acc: 0.5757\n",
      "Epoch 11/40\n",
      "106233/106233 [==============================] - 0s 2us/step - loss: 4.8563e-05 - acc: 0.5720 - val_loss: 4.8065e-05 - val_acc: 0.5829\n",
      "Epoch 12/40\n",
      "106233/106233 [==============================] - 0s 2us/step - loss: 4.8361e-05 - acc: 0.5763 - val_loss: 4.7879e-05 - val_acc: 0.5868\n",
      "Epoch 13/40\n",
      "106233/106233 [==============================] - 0s 2us/step - loss: 4.8244e-05 - acc: 0.5799 - val_loss: 4.9908e-05 - val_acc: 0.5351\n",
      "Epoch 14/40\n",
      "106233/106233 [==============================] - 0s 2us/step - loss: 4.8073e-05 - acc: 0.5856 - val_loss: 4.8997e-05 - val_acc: 0.5498\n",
      "Epoch 15/40\n",
      "106233/106233 [==============================] - 0s 2us/step - loss: 4.7910e-05 - acc: 0.5909 - val_loss: 4.7897e-05 - val_acc: 0.5878\n",
      "Epoch 16/40\n",
      "106233/106233 [==============================] - 0s 2us/step - loss: 4.7791e-05 - acc: 0.5933 - val_loss: 4.7917e-05 - val_acc: 0.5949\n",
      "Epoch 17/40\n",
      "106233/106233 [==============================] - 0s 2us/step - loss: 4.7585e-05 - acc: 0.5968 - val_loss: 5.0229e-05 - val_acc: 0.5379\n",
      "Epoch 18/40\n",
      "106233/106233 [==============================] - 0s 2us/step - loss: 4.7443e-05 - acc: 0.6016 - val_loss: 4.6984e-05 - val_acc: 0.6180\n",
      "Epoch 19/40\n",
      "106233/106233 [==============================] - 0s 2us/step - loss: 4.7337e-05 - acc: 0.6016 - val_loss: 4.6964e-05 - val_acc: 0.6032\n",
      "Epoch 20/40\n",
      "106233/106233 [==============================] - 0s 2us/step - loss: 4.7117e-05 - acc: 0.6079 - val_loss: 4.8798e-05 - val_acc: 0.5678\n",
      "Epoch 21/40\n",
      "106233/106233 [==============================] - 0s 2us/step - loss: 4.7161e-05 - acc: 0.6087 - val_loss: 4.6324e-05 - val_acc: 0.6286\n",
      "Epoch 22/40\n",
      "106233/106233 [==============================] - 0s 2us/step - loss: 4.7050e-05 - acc: 0.6083 - val_loss: 4.6931e-05 - val_acc: 0.6004\n",
      "Epoch 23/40\n",
      "106233/106233 [==============================] - 0s 2us/step - loss: 4.6906e-05 - acc: 0.6114 - val_loss: 4.6268e-05 - val_acc: 0.6309\n",
      "Epoch 24/40\n",
      "106233/106233 [==============================] - 0s 2us/step - loss: 4.6792e-05 - acc: 0.6153 - val_loss: 4.6159e-05 - val_acc: 0.6338\n",
      "Epoch 25/40\n",
      "106233/106233 [==============================] - 0s 2us/step - loss: 4.6750e-05 - acc: 0.6147 - val_loss: 4.7294e-05 - val_acc: 0.6070\n",
      "Epoch 26/40\n",
      "106233/106233 [==============================] - 0s 2us/step - loss: 4.6577e-05 - acc: 0.6164 - val_loss: 4.6011e-05 - val_acc: 0.6280\n",
      "Epoch 27/40\n",
      "106233/106233 [==============================] - 0s 2us/step - loss: 4.6571e-05 - acc: 0.6183 - val_loss: 4.8117e-05 - val_acc: 0.5896\n",
      "Epoch 28/40\n",
      "106233/106233 [==============================] - 0s 2us/step - loss: 4.6496e-05 - acc: 0.6196 - val_loss: 4.6599e-05 - val_acc: 0.6190\n",
      "Epoch 29/40\n",
      "106233/106233 [==============================] - 0s 2us/step - loss: 4.6527e-05 - acc: 0.6184 - val_loss: 4.5927e-05 - val_acc: 0.6307\n",
      "Epoch 30/40\n",
      "106233/106233 [==============================] - 0s 2us/step - loss: 4.6426e-05 - acc: 0.6212 - val_loss: 4.5975e-05 - val_acc: 0.6269\n",
      "Epoch 31/40\n",
      "106233/106233 [==============================] - 0s 2us/step - loss: 4.6413e-05 - acc: 0.6210 - val_loss: 4.6244e-05 - val_acc: 0.6158\n",
      "Epoch 32/40\n",
      "106233/106233 [==============================] - 0s 2us/step - loss: 4.6311e-05 - acc: 0.6211 - val_loss: 4.7048e-05 - val_acc: 0.6131\n",
      "Epoch 33/40\n",
      "106233/106233 [==============================] - 0s 2us/step - loss: 4.6283e-05 - acc: 0.6229 - val_loss: 4.7597e-05 - val_acc: 0.5972\n",
      "Epoch 34/40\n",
      "106233/106233 [==============================] - 0s 2us/step - loss: 4.6250e-05 - acc: 0.6221 - val_loss: 4.6010e-05 - val_acc: 0.6234\n",
      "Epoch 35/40\n",
      "106233/106233 [==============================] - 0s 2us/step - loss: 4.6215e-05 - acc: 0.6250 - val_loss: 4.7119e-05 - val_acc: 0.6132\n",
      "Epoch 36/40\n",
      "106233/106233 [==============================] - 0s 2us/step - loss: 4.6186e-05 - acc: 0.6232 - val_loss: 4.5984e-05 - val_acc: 0.6255\n",
      "Epoch 37/40\n",
      "106233/106233 [==============================] - 0s 2us/step - loss: 4.6093e-05 - acc: 0.6241 - val_loss: 4.6952e-05 - val_acc: 0.6047\n",
      "Epoch 38/40\n",
      "106233/106233 [==============================] - 0s 2us/step - loss: 4.6092e-05 - acc: 0.6246 - val_loss: 4.6274e-05 - val_acc: 0.6276\n",
      "Epoch 39/40\n",
      "106233/106233 [==============================] - 0s 2us/step - loss: 4.6082e-05 - acc: 0.6279 - val_loss: 4.5512e-05 - val_acc: 0.6383\n",
      "Epoch 40/40\n",
      "106233/106233 [==============================] - 0s 2us/step - loss: 4.6037e-05 - acc: 0.6268 - val_loss: 4.5585e-05 - val_acc: 0.6390\n"
     ]
    }
   ],
   "source": [
    "history = model.fit(X_train,y_train, epochs=40,batch_size=512,validation_data=(X_test, y_test,weight_test),sample_weight=weight_train)"
   ]
  },
  {
   "cell_type": "code",
   "execution_count": 18,
   "metadata": {},
   "outputs": [
    {
     "data": {
      "text/plain": [
       "dict_keys(['val_loss', 'val_acc', 'loss', 'acc'])"
      ]
     },
     "execution_count": 18,
     "metadata": {},
     "output_type": "execute_result"
    }
   ],
   "source": [
    "history_dict = history.history\n",
    "history_dict.keys()"
   ]
  },
  {
   "cell_type": "code",
   "execution_count": 34,
   "metadata": {},
   "outputs": [
    {
     "data": {
      "image/png": "[encoded data removed]",
      "text/plain": [
       "<Figure size 864x864 with 1 Axes>"
      ]
     },
     "metadata": {
      "needs_background": "light"
     },
     "output_type": "display_data"
    }
   ],
   "source": [
    "import matplotlib.pyplot as plt\n",
    "history_dict = history.history\n",
    "loss_values = history_dict['loss']\n",
    "val_loss_values = history_dict['val_loss']\n",
    "epochs = range(1, len(loss_values) + 1)\n",
    "plt.plot(epochs, loss_values, 'bo', label='Training loss')\n",
    "plt.plot(epochs, val_loss_values, 'b', label='Validation loss')\n",
    "plt.title('Training and validation loss')\n",
    "plt.ylabel('Loss')\n",
    "plt.xlabel('Epochs')\n",
    "plt.legend()\n",
    "plt.show()"
   ]
  },
  {
   "cell_type": "code",
   "execution_count": 20,
   "metadata": {},
   "outputs": [
    {
     "data": {
      "image/png": "[encoded data removed]",
      "text/plain": [
       "<Figure size 432x288 with 1 Axes>"
      ]
     },
     "metadata": {
      "needs_background": "light"
     },
     "output_type": "display_data"
    }
   ],
   "source": [
    "acc_values = history_dict['acc']\n",
    "val_acc_values = history_dict['val_acc']\n",
    "plt.plot(epochs, acc_values, 'bo', label='Training acc')\n",
    "plt.plot(epochs, val_acc_values, 'b', label='Validation acc')\n",
    "plt.title('Training and validation accuracy')\n",
    "plt.xlabel('Epochs')\n",
    "plt.ylabel('Accuracy')\n",
    "plt.legend()\n",
    "plt.show()"
   ]
  },
  {
   "cell_type": "code",
   "execution_count": 21,
   "metadata": {},
   "outputs": [
    {
     "name": "stdout",
     "output_type": "stream",
     "text": [
      "45529/45529 [==============================] - 0s 7us/step\n"
     ]
    },
    {
     "data": {
      "text/plain": [
       "[4.558465692729397e-05, 0.6389553910733557]"
      ]
     },
     "execution_count": 21,
     "metadata": {},
     "output_type": "execute_result"
    }
   ],
   "source": [
    "results = model.evaluate(X_test, y_test,sample_weight=weight_test)\n",
    "results"
   ]
  },
  {
   "cell_type": "code",
   "execution_count": 22,
   "metadata": {},
   "outputs": [],
   "source": [
    "probs=model.predict(X_test)"
   ]
  },
  {
   "cell_type": "code",
   "execution_count": 23,
   "metadata": {},
   "outputs": [],
   "source": [
    "from sklearn.metrics import roc_curve\n",
    "y_pred_keras= model.predict_proba(X_test)\n",
    "# keep probabilities for the positive outcome only\n",
    "fpr_keras, tpr_keras, thresholds_keras = roc_curve(y_test, y_pred_keras,sample_weight=weight_test)"
   ]
  },
  {
   "cell_type": "code",
   "execution_count": 24,
   "metadata": {},
   "outputs": [
    {
     "name": "stdout",
     "output_type": "stream",
     "text": [
      "0.6754536706684606\n"
     ]
    }
   ],
   "source": [
    "from sklearn.metrics import auc\n",
    "auc_keras = auc(fpr_keras, tpr_keras)\n",
    "print(auc_keras)\n"
   ]
  },
  {
   "cell_type": "code",
   "execution_count": 25,
   "metadata": {},
   "outputs": [
    {
     "data": {
      "image/png": "[encoded data removed]",
      "text/plain": [
       "<Figure size 432x288 with 1 Axes>"
      ]
     },
     "metadata": {
      "needs_background": "light"
     },
     "output_type": "display_data"
    }
   ],
   "source": [
    "plt.figure(1)\n",
    "plt.plot([0, 1], [0, 1], 'k--')\n",
    "plt.plot(fpr_keras, tpr_keras, label='Keras (area = {:.3f})'.format(auc_keras))\n",
    "plt.xlabel('False positive rate')\n",
    "plt.ylabel('True positive rate')\n",
    "plt.title('ROC curve')\n",
    "plt.legend(loc='best')\n",
    "plt.show()"
   ]
  },
  {
   "cell_type": "code",
   "execution_count": 26,
   "metadata": {},
   "outputs": [
    {
     "data": {
      "image/png": "[encoded data removed]",
      "text/plain": [
       "<Figure size 432x288 with 1 Axes>"
      ]
     },
     "metadata": {
      "needs_background": "light"
     },
     "output_type": "display_data"
    }
   ],
   "source": [
    "plt.figure(2)\n",
    "plt.plot([0, 1], [1, 0], 'k--')\n",
    "plt.plot(tpr_keras, 1-fpr_keras, label='Keras:DNN')\n",
    "plt.xlabel(\"sensitivity\",fontsize=14)\n",
    "plt.ylabel(\"specificity\",fontsize=14)\n",
    "plt.tick_params(axis=\"both\",labelsize=14)\n",
    "plt.show()"
   ]
  },
  {
   "cell_type": "code",
   "execution_count": 27,
   "metadata": {},
   "outputs": [],
   "source": [
    "filename=\"keras_tth.CSV\"\n",
    "with open(filename,\"w\") as file:\n",
    "    for kk in range(tpr_keras.size):\n",
    "        file.write(str(fpr_keras[kk]))\n",
    "        file.write(\" \")\n",
    "        file.write(str(tpr_keras[kk]))\n",
    "        file.write(\"\\n\")"
   ]
  },
  {
   "cell_type": "code",
   "execution_count": 28,
   "metadata": {},
   "outputs": [
    {
     "data": {
      "text/plain": [
       "45426"
      ]
     },
     "execution_count": 28,
     "metadata": {},
     "output_type": "execute_result"
    }
   ],
   "source": [
    "tpr_keras.size"
   ]
  },
  {
   "cell_type": "raw",
   "metadata": {},
   "source": [
    "thresholds_keras.shape"
   ]
  },
  {
   "cell_type": "code",
   "execution_count": 29,
   "metadata": {},
   "outputs": [
    {
     "data": {
      "text/plain": [
       "(45529, 33)"
      ]
     },
     "execution_count": 29,
     "metadata": {},
     "output_type": "execute_result"
    }
   ],
   "source": [
    "X_test.shape"
   ]
  },
  {
   "cell_type": "code",
   "execution_count": 30,
   "metadata": {},
   "outputs": [],
   "source": [
    "sig_probs=[]\n",
    "bkg_probs=[]\n",
    "for index in range(y_test.shape[0]):\n",
    "    if(y_test[index]==1.0):\n",
    "        sig_probs.append(probs[index][0])\n",
    "    else:\n",
    "        bkg_probs.append(probs[index][0])\n",
    "    "
   ]
  },
  {
   "cell_type": "code",
   "execution_count": 33,
   "metadata": {
    "scrolled": true
   },
   "outputs": [
    {
     "data": {
      "image/png": "[encoded data removed]",
      "text/plain": [
       "<Figure size 864x864 with 1 Axes>"
      ]
     },
     "metadata": {
      "needs_background": "light"
     },
     "output_type": "display_data"
    }
   ],
   "source": [
    "plt.figure(3)\n",
    "plt.rcParams['figure.figsize'] = [12, 12]\n",
    "\n",
    "plt.hist(sig_probs,bins=100,density=True,alpha=0.6,label=\"CP:Even\");\n",
    "plt.hist(bkg_probs,bins=100,density=True,alpha=0.6,label=\"CP:Odd\");\n",
    "plt.legend(loc='upper right',fontsize=24)\n",
    "plt.xlabel(\"DNN response\",fontsize=24)\n",
    "plt.ylabel(\"Desity\",fontsize=24)\n",
    "plt.xticks(fontsize=18)\n",
    "plt.yticks(fontsize=18)\n",
    "plt.savefig('tth_keras_output.png')\n",
    "plt.show()"
   ]
  },
  {
   "cell_type": "code",
   "execution_count": 32,
   "metadata": {},
   "outputs": [
    {
     "data": {
      "text/plain": [
       "array([1.8896784 , 0.88967836, 0.88712996, ..., 0.0178951 , 0.01419544,\n",
       "       0.00652328], dtype=float32)"
      ]
     },
     "execution_count": 32,
     "metadata": {},
     "output_type": "execute_result"
    }
   ],
   "source": [
    "thresholds_keras"
   ]
  },
  {
   "cell_type": "code",
   "execution_count": null,
   "metadata": {},
   "outputs": [],
   "source": []
  }
 ],
 "metadata": {
  "kernelspec": {
   "display_name": "Python 3",
   "language": "python",
   "name": "python3"
  },
  "language_info": {
   "codemirror_mode": {
    "name": "ipython",
    "version": 3
   },
   "file_extension": ".py",
   "mimetype": "text/x-python",
   "name": "python",
   "nbconvert_exporter": "python",
   "pygments_lexer": "ipython3",
   "version": "3.7.3"
  }
 },
 "nbformat": 4,
 "nbformat_minor": 2
}

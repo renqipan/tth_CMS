{
 "cells": [
  {
   "cell_type": "code",
   "execution_count": 1,
   "metadata": {},
   "outputs": [],
   "source": [
    "from sklearn.model_selection import train_test_split\n",
    "import pandas as pd\n",
    "import numpy as np\n"
   ]
  },
  {
   "cell_type": "code",
   "execution_count": 2,
   "metadata": {},
   "outputs": [],
   "source": [
    "datasig=pd.read_csv(\"sig_many_values.csv\")\n",
    "databkg=pd.read_csv(\"bkg_many_values.csv\")"
   ]
  },
  {
   "cell_type": "code",
   "execution_count": 3,
   "metadata": {},
   "outputs": [
    {
     "data": {
      "text/plain": [
       "(67263, 34)"
      ]
     },
     "execution_count": 3,
     "metadata": {},
     "output_type": "execute_result"
    }
   ],
   "source": [
    "datasig.shape"
   ]
  },
  {
   "cell_type": "code",
   "execution_count": 4,
   "metadata": {},
   "outputs": [
    {
     "data": {
      "text/plain": [
       "(84499, 34)"
      ]
     },
     "execution_count": 4,
     "metadata": {},
     "output_type": "execute_result"
    }
   ],
   "source": [
    "databkg.shape"
   ]
  },
  {
   "cell_type": "code",
   "execution_count": 5,
   "metadata": {},
   "outputs": [],
   "source": [
    "datasig[\"label\"]=1\n",
    "databkg[\"label\"]=0"
   ]
  },
  {
   "cell_type": "code",
   "execution_count": 6,
   "metadata": {},
   "outputs": [],
   "source": [
    "data2=datasig.append(databkg,ignore_index=True)"
   ]
  },
  {
   "cell_type": "code",
   "execution_count": 7,
   "metadata": {},
   "outputs": [
    {
     "data": {
      "text/plain": [
       "(151762, 35)"
      ]
     },
     "execution_count": 7,
     "metadata": {},
     "output_type": "execute_result"
    }
   ],
   "source": [
    "data2.shape\n"
   ]
  },
  {
   "cell_type": "code",
   "execution_count": 8,
   "metadata": {},
   "outputs": [
    {
     "data": {
      "text/html": [
       "<div>\n",
       "<style scoped>\n",
       "    .dataframe tbody tr th:only-of-type {\n",
       "        vertical-align: middle;\n",
       "    }\n",
       "\n",
       "    .dataframe tbody tr th {\n",
       "        vertical-align: top;\n",
       "    }\n",
       "\n",
       "    .dataframe thead th {\n",
       "        text-align: right;\n",
       "    }\n",
       "</style>\n",
       "<table border=\"1\" class=\"dataframe\">\n",
       "  <thead>\n",
       "    <tr style=\"text-align: right;\">\n",
       "      <th></th>\n",
       "      <th>jetPt_1</th>\n",
       "      <th>jetEta_1</th>\n",
       "      <th>jetPhi_1</th>\n",
       "      <th>jetE_1</th>\n",
       "      <th>btag_1</th>\n",
       "      <th>jetPt_2</th>\n",
       "      <th>jetEta_2</th>\n",
       "      <th>jetPhi_2</th>\n",
       "      <th>jetE_2</th>\n",
       "      <th>btag_2</th>\n",
       "      <th>...</th>\n",
       "      <th>jetPt_6</th>\n",
       "      <th>jetEta_6</th>\n",
       "      <th>jetPhi_6</th>\n",
       "      <th>jetE_6</th>\n",
       "      <th>btag_6</th>\n",
       "      <th>diPhoPhi</th>\n",
       "      <th>diPhoEta</th>\n",
       "      <th>diPhoPtoM</th>\n",
       "      <th>weight</th>\n",
       "      <th>label</th>\n",
       "    </tr>\n",
       "  </thead>\n",
       "  <tbody>\n",
       "    <tr>\n",
       "      <th>0</th>\n",
       "      <td>179.1340</td>\n",
       "      <td>0.129419</td>\n",
       "      <td>-0.770991</td>\n",
       "      <td>184.053</td>\n",
       "      <td>0.920134</td>\n",
       "      <td>75.2335</td>\n",
       "      <td>-0.047224</td>\n",
       "      <td>-1.281490</td>\n",
       "      <td>76.1059</td>\n",
       "      <td>0.999764</td>\n",
       "      <td>...</td>\n",
       "      <td>37.2568</td>\n",
       "      <td>-0.299217</td>\n",
       "      <td>-1.762450</td>\n",
       "      <td>39.8590</td>\n",
       "      <td>0.032036</td>\n",
       "      <td>1.47030</td>\n",
       "      <td>0.659044</td>\n",
       "      <td>1.629320</td>\n",
       "      <td>0.000071</td>\n",
       "      <td>1</td>\n",
       "    </tr>\n",
       "    <tr>\n",
       "      <th>1</th>\n",
       "      <td>161.2780</td>\n",
       "      <td>1.071580</td>\n",
       "      <td>-0.156882</td>\n",
       "      <td>263.612</td>\n",
       "      <td>0.913174</td>\n",
       "      <td>126.8670</td>\n",
       "      <td>0.646219</td>\n",
       "      <td>2.747790</td>\n",
       "      <td>155.3490</td>\n",
       "      <td>0.999908</td>\n",
       "      <td>...</td>\n",
       "      <td>30.6574</td>\n",
       "      <td>1.363930</td>\n",
       "      <td>-0.648138</td>\n",
       "      <td>64.0560</td>\n",
       "      <td>0.032292</td>\n",
       "      <td>-3.10210</td>\n",
       "      <td>1.074770</td>\n",
       "      <td>0.598067</td>\n",
       "      <td>0.000073</td>\n",
       "      <td>1</td>\n",
       "    </tr>\n",
       "    <tr>\n",
       "      <th>2</th>\n",
       "      <td>157.1970</td>\n",
       "      <td>-0.333851</td>\n",
       "      <td>0.212655</td>\n",
       "      <td>166.653</td>\n",
       "      <td>0.005083</td>\n",
       "      <td>68.6658</td>\n",
       "      <td>-1.467650</td>\n",
       "      <td>0.122107</td>\n",
       "      <td>157.2250</td>\n",
       "      <td>0.999957</td>\n",
       "      <td>...</td>\n",
       "      <td>50.2075</td>\n",
       "      <td>-0.554880</td>\n",
       "      <td>3.135870</td>\n",
       "      <td>58.4124</td>\n",
       "      <td>0.956340</td>\n",
       "      <td>2.64547</td>\n",
       "      <td>-0.449345</td>\n",
       "      <td>1.746590</td>\n",
       "      <td>0.000053</td>\n",
       "      <td>1</td>\n",
       "    </tr>\n",
       "    <tr>\n",
       "      <th>3</th>\n",
       "      <td>143.9920</td>\n",
       "      <td>-0.899087</td>\n",
       "      <td>-0.825905</td>\n",
       "      <td>206.971</td>\n",
       "      <td>0.993589</td>\n",
       "      <td>112.7960</td>\n",
       "      <td>0.119058</td>\n",
       "      <td>0.629660</td>\n",
       "      <td>114.7540</td>\n",
       "      <td>0.132374</td>\n",
       "      <td>...</td>\n",
       "      <td>30.1873</td>\n",
       "      <td>-0.606200</td>\n",
       "      <td>0.356470</td>\n",
       "      <td>36.3707</td>\n",
       "      <td>0.217502</td>\n",
       "      <td>2.49579</td>\n",
       "      <td>-0.719844</td>\n",
       "      <td>2.053300</td>\n",
       "      <td>0.000010</td>\n",
       "      <td>1</td>\n",
       "    </tr>\n",
       "    <tr>\n",
       "      <th>4</th>\n",
       "      <td>85.5433</td>\n",
       "      <td>0.699251</td>\n",
       "      <td>-2.586590</td>\n",
       "      <td>108.438</td>\n",
       "      <td>0.999996</td>\n",
       "      <td>74.1270</td>\n",
       "      <td>0.099549</td>\n",
       "      <td>-0.422806</td>\n",
       "      <td>75.8854</td>\n",
       "      <td>0.054680</td>\n",
       "      <td>...</td>\n",
       "      <td>33.7513</td>\n",
       "      <td>-1.301440</td>\n",
       "      <td>2.364960</td>\n",
       "      <td>66.7972</td>\n",
       "      <td>0.059545</td>\n",
       "      <td>2.53021</td>\n",
       "      <td>-1.809120</td>\n",
       "      <td>0.284786</td>\n",
       "      <td>0.000089</td>\n",
       "      <td>1</td>\n",
       "    </tr>\n",
       "  </tbody>\n",
       "</table>\n",
       "<p>5 rows × 35 columns</p>\n",
       "</div>"
      ],
      "text/plain": [
       "    jetPt_1   jetEta_1   jetPhi_1   jetE_1    btag_1   jetPt_2   jetEta_2  \\\n",
       "0  179.1340   0.129419  -0.770991  184.053  0.920134   75.2335  -0.047224   \n",
       "1  161.2780   1.071580  -0.156882  263.612  0.913174  126.8670   0.646219   \n",
       "2  157.1970  -0.333851   0.212655  166.653  0.005083   68.6658  -1.467650   \n",
       "3  143.9920  -0.899087  -0.825905  206.971  0.993589  112.7960   0.119058   \n",
       "4   85.5433   0.699251  -2.586590  108.438  0.999996   74.1270   0.099549   \n",
       "\n",
       "    jetPhi_2    jetE_2    btag_2  ...   jetPt_6   jetEta_6   jetPhi_6  \\\n",
       "0  -1.281490   76.1059  0.999764  ...   37.2568  -0.299217  -1.762450   \n",
       "1   2.747790  155.3490  0.999908  ...   30.6574   1.363930  -0.648138   \n",
       "2   0.122107  157.2250  0.999957  ...   50.2075  -0.554880   3.135870   \n",
       "3   0.629660  114.7540  0.132374  ...   30.1873  -0.606200   0.356470   \n",
       "4  -0.422806   75.8854  0.054680  ...   33.7513  -1.301440   2.364960   \n",
       "\n",
       "    jetE_6    btag_6   diPhoPhi   diPhoEta   diPhoPtoM    weight  label  \n",
       "0  39.8590  0.032036    1.47030   0.659044    1.629320  0.000071      1  \n",
       "1  64.0560  0.032292   -3.10210   1.074770    0.598067  0.000073      1  \n",
       "2  58.4124  0.956340    2.64547  -0.449345    1.746590  0.000053      1  \n",
       "3  36.3707  0.217502    2.49579  -0.719844    2.053300  0.000010      1  \n",
       "4  66.7972  0.059545    2.53021  -1.809120    0.284786  0.000089      1  \n",
       "\n",
       "[5 rows x 35 columns]"
      ]
     },
     "execution_count": 8,
     "metadata": {},
     "output_type": "execute_result"
    }
   ],
   "source": [
    "data2.head()"
   ]
  },
  {
   "cell_type": "code",
   "execution_count": 9,
   "metadata": {},
   "outputs": [],
   "source": [
    "X=data2.iloc[:,:-2]\n",
    "Y=data2.iloc[:,-1]\n",
    "weights=data2.iloc[:,-2]"
   ]
  },
  {
   "cell_type": "code",
   "execution_count": 10,
   "metadata": {},
   "outputs": [],
   "source": [
    "X_train, X_test, y_train, y_test,weight_train,weight_test = train_test_split(X, Y,weights, test_size=0.3, random_state=7)"
   ]
  },
  {
   "cell_type": "code",
   "execution_count": 11,
   "metadata": {},
   "outputs": [],
   "source": [
    "X_train=np.asarray(X_train).astype('float32')\n",
    "X_test=np.asarray(X_test).astype('float32')\n",
    "y_train=np.asarray(y_train).astype('float32')\n",
    "y_test=np.asarray(y_test).astype('float32')\n",
    "weight_train=weight_train\n",
    "weight_test=weight_test\n",
    "weight_test=np.asarray(weight_test).astype(\"float32\")\n",
    "weight_train=np.asarray(weight_train).astype(\"float32\")\n"
   ]
  },
  {
   "cell_type": "code",
   "execution_count": 12,
   "metadata": {},
   "outputs": [
    {
     "data": {
      "text/plain": [
       "array([5.01296e-07, 7.53136e-05, 4.80751e-05, ..., 7.04554e-05,\n",
       "       4.63276e-06, 7.76872e-05], dtype=float32)"
      ]
     },
     "execution_count": 12,
     "metadata": {},
     "output_type": "execute_result"
    }
   ],
   "source": [
    "weight_train"
   ]
  },
  {
   "cell_type": "code",
   "execution_count": 13,
   "metadata": {},
   "outputs": [],
   "source": [
    "ndim=X.shape[1]"
   ]
  },
  {
   "cell_type": "code",
   "execution_count": 14,
   "metadata": {},
   "outputs": [
    {
     "name": "stderr",
     "output_type": "stream",
     "text": [
      "Using TensorFlow backend.\n"
     ]
    }
   ],
   "source": [
    "from keras import models\n",
    "from keras import layers\n",
    "from keras import optimizers"
   ]
  },
  {
   "cell_type": "code",
   "execution_count": 15,
   "metadata": {
    "scrolled": true
   },
   "outputs": [
    {
     "name": "stdout",
     "output_type": "stream",
     "text": [
      "WARNING:tensorflow:From /home/renqi/.local/lib/python3.7/site-packages/tensorflow/python/framework/op_def_library.py:263: colocate_with (from tensorflow.python.framework.ops) is deprecated and will be removed in a future version.\n",
      "Instructions for updating:\n",
      "Colocations handled automatically by placer.\n"
     ]
    }
   ],
   "source": [
    "model = models.Sequential()\n",
    "model.add(layers.Dense(16, activation='relu', input_shape=(ndim,)))\n",
    "model.add(layers.Dense(16, activation='relu'))\n",
    "model.add(layers.Dense(16, activation='relu'))\n",
    "\n",
    "\n",
    "model.add(layers.Dense(1, activation='sigmoid'))"
   ]
  },
  {
   "cell_type": "code",
   "execution_count": 16,
   "metadata": {},
   "outputs": [],
   "source": [
    "model.compile(optimizer=optimizers.RMSprop(lr=0.001),loss='binary_crossentropy',metrics=['accuracy'])"
   ]
  },
  {
   "cell_type": "code",
   "execution_count": 17,
   "metadata": {
    "scrolled": true
   },
   "outputs": [
    {
     "name": "stdout",
     "output_type": "stream",
     "text": [
      "WARNING:tensorflow:From /home/renqi/.local/lib/python3.7/site-packages/tensorflow/python/ops/math_ops.py:3066: to_int32 (from tensorflow.python.ops.math_ops) is deprecated and will be removed in a future version.\n",
      "Instructions for updating:\n",
      "Use tf.cast instead.\n",
      "Train on 106233 samples, validate on 45529 samples\n",
      "Epoch 1/40\n",
      "106233/106233 [==============================] - 0s 4us/step - loss: 7.8716e-05 - acc: 0.5265 - val_loss: 5.2710e-05 - val_acc: 0.5232\n",
      "Epoch 2/40\n",
      "106233/106233 [==============================] - 0s 2us/step - loss: 5.5529e-05 - acc: 0.5263 - val_loss: 5.7977e-05 - val_acc: 0.4625\n",
      "Epoch 3/40\n",
      "106233/106233 [==============================] - 0s 2us/step - loss: 5.2699e-05 - acc: 0.5333 - val_loss: 6.6747e-05 - val_acc: 0.5587\n",
      "Epoch 4/40\n",
      "106233/106233 [==============================] - 0s 2us/step - loss: 5.0883e-05 - acc: 0.5440 - val_loss: 4.8626e-05 - val_acc: 0.5760\n",
      "Epoch 5/40\n",
      "106233/106233 [==============================] - 0s 2us/step - loss: 4.9544e-05 - acc: 0.5538 - val_loss: 4.9298e-05 - val_acc: 0.5379\n",
      "Epoch 6/40\n",
      "106233/106233 [==============================] - 0s 2us/step - loss: 4.9064e-05 - acc: 0.5612 - val_loss: 5.1575e-05 - val_acc: 0.4801\n",
      "Epoch 7/40\n",
      "106233/106233 [==============================] - 0s 2us/step - loss: 4.8708e-05 - acc: 0.5699 - val_loss: 4.9765e-05 - val_acc: 0.5657\n",
      "Epoch 8/40\n",
      "106233/106233 [==============================] - 0s 2us/step - loss: 4.8544e-05 - acc: 0.5726 - val_loss: 4.7853e-05 - val_acc: 0.5931\n",
      "Epoch 9/40\n",
      "106233/106233 [==============================] - 0s 2us/step - loss: 4.8373e-05 - acc: 0.5773 - val_loss: 4.8845e-05 - val_acc: 0.5569\n",
      "Epoch 10/40\n",
      "106233/106233 [==============================] - 0s 2us/step - loss: 4.8225e-05 - acc: 0.5819 - val_loss: 4.8036e-05 - val_acc: 0.5811\n",
      "Epoch 11/40\n",
      "106233/106233 [==============================] - 0s 2us/step - loss: 4.8108e-05 - acc: 0.5822 - val_loss: 4.8438e-05 - val_acc: 0.5716\n",
      "Epoch 12/40\n",
      "106233/106233 [==============================] - 0s 2us/step - loss: 4.8026e-05 - acc: 0.5840 - val_loss: 4.7867e-05 - val_acc: 0.5934\n",
      "Epoch 13/40\n",
      "106233/106233 [==============================] - 0s 2us/step - loss: 4.7907e-05 - acc: 0.5870 - val_loss: 4.8562e-05 - val_acc: 0.5654\n",
      "Epoch 14/40\n",
      "106233/106233 [==============================] - 0s 2us/step - loss: 4.7826e-05 - acc: 0.5893 - val_loss: 4.7920e-05 - val_acc: 0.5927\n",
      "Epoch 15/40\n",
      "106233/106233 [==============================] - 0s 2us/step - loss: 4.7732e-05 - acc: 0.5933 - val_loss: 4.8261e-05 - val_acc: 0.5759\n",
      "Epoch 16/40\n",
      "106233/106233 [==============================] - 0s 2us/step - loss: 4.7603e-05 - acc: 0.5957 - val_loss: 4.7530e-05 - val_acc: 0.5934\n",
      "Epoch 17/40\n",
      "106233/106233 [==============================] - 0s 2us/step - loss: 4.7483e-05 - acc: 0.5982 - val_loss: 4.7678e-05 - val_acc: 0.5842\n",
      "Epoch 18/40\n",
      "106233/106233 [==============================] - 0s 2us/step - loss: 4.7395e-05 - acc: 0.5999 - val_loss: 4.8113e-05 - val_acc: 0.5771\n",
      "Epoch 19/40\n",
      "106233/106233 [==============================] - 0s 2us/step - loss: 4.7263e-05 - acc: 0.6021 - val_loss: 4.6717e-05 - val_acc: 0.6231\n",
      "Epoch 20/40\n",
      "106233/106233 [==============================] - 0s 2us/step - loss: 4.7088e-05 - acc: 0.6077 - val_loss: 4.9508e-05 - val_acc: 0.5661\n",
      "Epoch 21/40\n",
      "106233/106233 [==============================] - 0s 2us/step - loss: 4.7071e-05 - acc: 0.6070 - val_loss: 4.6625e-05 - val_acc: 0.6231\n",
      "Epoch 22/40\n",
      "106233/106233 [==============================] - 0s 2us/step - loss: 4.7012e-05 - acc: 0.6091 - val_loss: 4.6489e-05 - val_acc: 0.6282\n",
      "Epoch 23/40\n",
      "106233/106233 [==============================] - 0s 2us/step - loss: 4.6903e-05 - acc: 0.6117 - val_loss: 4.6358e-05 - val_acc: 0.6280\n",
      "Epoch 24/40\n",
      "106233/106233 [==============================] - 0s 2us/step - loss: 4.6805e-05 - acc: 0.6121 - val_loss: 4.6176e-05 - val_acc: 0.6344\n",
      "Epoch 25/40\n",
      "106233/106233 [==============================] - 0s 2us/step - loss: 4.6676e-05 - acc: 0.6163 - val_loss: 4.7388e-05 - val_acc: 0.5914\n",
      "Epoch 26/40\n",
      "106233/106233 [==============================] - 0s 2us/step - loss: 4.6698e-05 - acc: 0.6142 - val_loss: 4.6760e-05 - val_acc: 0.6082\n",
      "Epoch 27/40\n",
      "106233/106233 [==============================] - 0s 2us/step - loss: 4.6608e-05 - acc: 0.6170 - val_loss: 4.6269e-05 - val_acc: 0.6325\n",
      "Epoch 28/40\n",
      "106233/106233 [==============================] - 0s 2us/step - loss: 4.6615e-05 - acc: 0.6166 - val_loss: 4.6034e-05 - val_acc: 0.6325\n",
      "Epoch 29/40\n",
      "106233/106233 [==============================] - 0s 2us/step - loss: 4.6511e-05 - acc: 0.6210 - val_loss: 4.5938e-05 - val_acc: 0.6356\n",
      "Epoch 30/40\n",
      "106233/106233 [==============================] - 0s 2us/step - loss: 4.6485e-05 - acc: 0.6184 - val_loss: 4.6642e-05 - val_acc: 0.6215\n",
      "Epoch 31/40\n",
      "106233/106233 [==============================] - 0s 2us/step - loss: 4.6401e-05 - acc: 0.6225 - val_loss: 4.6108e-05 - val_acc: 0.6225\n",
      "Epoch 32/40\n",
      "106233/106233 [==============================] - 0s 2us/step - loss: 4.6432e-05 - acc: 0.6198 - val_loss: 4.6332e-05 - val_acc: 0.6279\n",
      "Epoch 33/40\n",
      "106233/106233 [==============================] - 0s 2us/step - loss: 4.6341e-05 - acc: 0.6245 - val_loss: 4.8513e-05 - val_acc: 0.5799\n",
      "Epoch 34/40\n",
      "106233/106233 [==============================] - 0s 2us/step - loss: 4.6347e-05 - acc: 0.6228 - val_loss: 4.6895e-05 - val_acc: 0.6152\n",
      "Epoch 35/40\n",
      "106233/106233 [==============================] - 0s 2us/step - loss: 4.6362e-05 - acc: 0.6232 - val_loss: 4.5897e-05 - val_acc: 0.6334\n",
      "Epoch 36/40\n",
      "106233/106233 [==============================] - 0s 2us/step - loss: 4.6228e-05 - acc: 0.6247 - val_loss: 4.6669e-05 - val_acc: 0.6124\n",
      "Epoch 37/40\n",
      "106233/106233 [==============================] - 0s 2us/step - loss: 4.6253e-05 - acc: 0.6245 - val_loss: 4.6091e-05 - val_acc: 0.6307\n",
      "Epoch 38/40\n",
      "106233/106233 [==============================] - 0s 2us/step - loss: 4.6217e-05 - acc: 0.6251 - val_loss: 4.6030e-05 - val_acc: 0.6321\n",
      "Epoch 39/40\n",
      "106233/106233 [==============================] - 0s 2us/step - loss: 4.6185e-05 - acc: 0.6269 - val_loss: 4.5730e-05 - val_acc: 0.6364\n",
      "Epoch 40/40\n",
      "106233/106233 [==============================] - 0s 2us/step - loss: 4.6110e-05 - acc: 0.6266 - val_loss: 4.5729e-05 - val_acc: 0.6352\n"
     ]
    }
   ],
   "source": [
    "history = model.fit(X_train,y_train, epochs=40,batch_size=512,validation_data=(X_test, y_test,weight_test),sample_weight=weight_train)"
   ]
  },
  {
   "cell_type": "code",
   "execution_count": 18,
   "metadata": {},
   "outputs": [
    {
     "data": {
      "text/plain": [
       "dict_keys(['val_loss', 'val_acc', 'loss', 'acc'])"
      ]
     },
     "execution_count": 18,
     "metadata": {},
     "output_type": "execute_result"
    }
   ],
   "source": [
    "history_dict = history.history\n",
    "history_dict.keys()"
   ]
  },
  {
   "cell_type": "code",
   "execution_count": 29,
   "metadata": {},
   "outputs": [
    {
     "data": {
      "image/png": "[encoded data removed]",
      "text/plain": [
       "<Figure size 432x288 with 1 Axes>"
      ]
     },
     "metadata": {
      "needs_background": "light"
     },
     "output_type": "display_data"
    }
   ],
   "source": [
    "import matplotlib.pyplot as plt\n",
    "history_dict = history.history\n",
    "loss_values = history_dict['loss']\n",
    "val_loss_values = history_dict['val_loss']\n",
    "epochs = range(1, len(loss_values) + 1)\n",
    "plt.plot(epochs, loss_values, 'bo', label='Training loss')\n",
    "plt.plot(epochs, val_loss_values, 'b', label='Validation loss')\n",
    "plt.title('Training and validation loss')\n",
    "plt.ylabel('Loss')\n",
    "plt.xlabel('Epochs')\n",
    "plt.legend()\n",
    "plt.show()"
   ]
  },
  {
   "cell_type": "code",
   "execution_count": 20,
   "metadata": {},
   "outputs": [
    {
     "data": {
      "image/png": "[encoded data removed]",
      "text/plain": [
       "<Figure size 432x288 with 1 Axes>"
      ]
     },
     "metadata": {
      "needs_background": "light"
     },
     "output_type": "display_data"
    }
   ],
   "source": [
    "acc_values = history_dict['acc']\n",
    "val_acc_values = history_dict['val_acc']\n",
    "plt.plot(epochs, acc_values, 'bo', label='Training acc')\n",
    "plt.plot(epochs, val_acc_values, 'b', label='Validation acc')\n",
    "plt.title('Training and validation accuracy')\n",
    "plt.xlabel('Epochs')\n",
    "plt.ylabel('Accuracy')\n",
    "plt.legend()\n",
    "plt.show()"
   ]
  },
  {
   "cell_type": "code",
   "execution_count": 21,
   "metadata": {},
   "outputs": [
    {
     "name": "stdout",
     "output_type": "stream",
     "text": [
      "45529/45529 [==============================] - 0s 6us/step\n"
     ]
    },
    {
     "data": {
      "text/plain": [
       "[4.572882337575643e-05, 0.6351556151063896]"
      ]
     },
     "execution_count": 21,
     "metadata": {},
     "output_type": "execute_result"
    }
   ],
   "source": [
    "results = model.evaluate(X_test, y_test,sample_weight=weight_test)\n",
    "results"
   ]
  },
  {
   "cell_type": "code",
   "execution_count": 22,
   "metadata": {},
   "outputs": [
    {
     "data": {
      "text/plain": [
       "array([[0.6450801 ],\n",
       "       [0.178121  ],\n",
       "       [0.39552128],\n",
       "       ...,\n",
       "       [0.30535376],\n",
       "       [0.5745373 ],\n",
       "       [0.5612622 ]], dtype=float32)"
      ]
     },
     "execution_count": 22,
     "metadata": {},
     "output_type": "execute_result"
    }
   ],
   "source": [
    "model.predict(X_test)"
   ]
  },
  {
   "cell_type": "code",
   "execution_count": 23,
   "metadata": {},
   "outputs": [],
   "source": [
    "from sklearn.metrics import roc_curve\n",
    "y_pred_keras= model.predict_proba(X_test)\n",
    "# keep probabilities for the positive outcome only\n",
    "fpr_keras, tpr_keras, thresholds_keras = roc_curve(y_test, y_pred_keras,sample_weight=weight_test)"
   ]
  },
  {
   "cell_type": "code",
   "execution_count": 24,
   "metadata": {},
   "outputs": [
    {
     "name": "stdout",
     "output_type": "stream",
     "text": [
      "0.6731604164175011\n"
     ]
    }
   ],
   "source": [
    "from sklearn.metrics import auc\n",
    "auc_keras = auc(fpr_keras, tpr_keras)\n",
    "print(auc_keras)\n"
   ]
  },
  {
   "cell_type": "code",
   "execution_count": 25,
   "metadata": {},
   "outputs": [
    {
     "data": {
      "image/png": "[encoded data removed]",
      "text/plain": [
       "<Figure size 432x288 with 1 Axes>"
      ]
     },
     "metadata": {
      "needs_background": "light"
     },
     "output_type": "display_data"
    }
   ],
   "source": [
    "plt.figure(1)\n",
    "plt.plot([0, 1], [0, 1], 'k--')\n",
    "plt.plot(fpr_keras, tpr_keras, label='Keras (area = {:.3f})'.format(auc_keras))\n",
    "plt.xlabel('False positive rate')\n",
    "plt.ylabel('True positive rate')\n",
    "plt.title('ROC curve')\n",
    "plt.legend(loc='best')\n",
    "plt.show()"
   ]
  },
  {
   "cell_type": "code",
   "execution_count": 26,
   "metadata": {},
   "outputs": [
    {
     "data": {
      "image/png": "[encoded data removed]",
      "text/plain": [
       "<Figure size 432x288 with 1 Axes>"
      ]
     },
     "metadata": {
      "needs_background": "light"
     },
     "output_type": "display_data"
    }
   ],
   "source": [
    "plt.figure(2)\n",
    "plt.plot([0, 1], [1, 0], 'k--')\n",
    "plt.plot(tpr_keras, 1-fpr_keras, label='Keras:DNN')\n",
    "plt.xlabel(\"sensitivity\",fontsize=14)\n",
    "plt.ylabel(\"specificity\",fontsize=14)\n",
    "plt.tick_params(axis=\"both\",labelsize=14)\n",
    "plt.show()"
   ]
  },
  {
   "cell_type": "code",
   "execution_count": 27,
   "metadata": {},
   "outputs": [],
   "source": [
    "filename=\"keras_tth.CSV\"\n",
    "with open(filename,\"w\") as file:\n",
    "    for kk in range(tpr_keras.size):\n",
    "        file.write(str(fpr_keras[kk]))\n",
    "        file.write(\" \")\n",
    "        file.write(str(tpr_keras[kk]))\n",
    "        file.write(\"\\n\")"
   ]
  },
  {
   "cell_type": "code",
   "execution_count": 28,
   "metadata": {},
   "outputs": [
    {
     "data": {
      "text/plain": [
       "45432"
      ]
     },
     "execution_count": 28,
     "metadata": {},
     "output_type": "execute_result"
    }
   ],
   "source": [
    "tpr_keras.size"
   ]
  },
  {
   "cell_type": "code",
   "execution_count": null,
   "metadata": {},
   "outputs": [],
   "source": []
  }
 ],
 "metadata": {
  "kernelspec": {
   "display_name": "Python 3",
   "language": "python",
   "name": "python3"
  },
  "language_info": {
   "codemirror_mode": {
    "name": "ipython",
    "version": 3
   },
   "file_extension": ".py",
   "mimetype": "text/x-python",
   "name": "python",
   "nbconvert_exporter": "python",
   "pygments_lexer": "ipython3",
   "version": "3.7.3"
  }
 },
 "nbformat": 4,
 "nbformat_minor": 2
}

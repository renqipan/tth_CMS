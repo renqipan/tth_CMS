{
 "cells": [
  {
   "cell_type": "code",
   "execution_count": 1,
   "metadata": {},
   "outputs": [],
   "source": [
    "from xgboost import XGBClassifier\n",
    "from sklearn.model_selection import train_test_split\n",
    "from sklearn.metrics import accuracy_score\n",
    "import pandas as pd\n",
    "import xgboost as xgb\n",
    "import numpy as np"
   ]
  },
  {
   "cell_type": "code",
   "execution_count": 2,
   "metadata": {},
   "outputs": [],
   "source": [
    "datasig=pd.read_csv(\"sig_lep_values.csv\")\n",
    "databkg=pd.read_csv(\"bkg_lep_values.csv\")\n",
    "databkg[\"label\"]=0\n",
    "datasig[\"label\"]=1\n",
    "\n",
    "data2=datasig.append(databkg,ignore_index=True)"
   ]
  },
  {
   "cell_type": "code",
   "execution_count": 3,
   "metadata": {},
   "outputs": [
    {
     "data": {
      "text/html": [
       "<div>\n",
       "<style scoped>\n",
       "    .dataframe tbody tr th:only-of-type {\n",
       "        vertical-align: middle;\n",
       "    }\n",
       "\n",
       "    .dataframe tbody tr th {\n",
       "        vertical-align: top;\n",
       "    }\n",
       "\n",
       "    .dataframe thead th {\n",
       "        text-align: right;\n",
       "    }\n",
       "</style>\n",
       "<table border=\"1\" class=\"dataframe\">\n",
       "  <thead>\n",
       "    <tr style=\"text-align: right;\">\n",
       "      <th></th>\n",
       "      <th>LepPt[0]</th>\n",
       "      <th>LepPt[1]</th>\n",
       "      <th>LepPt[2]</th>\n",
       "      <th>LepPt[3]</th>\n",
       "      <th>LepPhi[0]</th>\n",
       "      <th>LepPhi[1]</th>\n",
       "      <th>LepPhi[2]</th>\n",
       "      <th>LepPhi[3]</th>\n",
       "      <th>LepEta[0]</th>\n",
       "      <th>LepEta[1]</th>\n",
       "      <th>...</th>\n",
       "      <th>JetPt2</th>\n",
       "      <th>JetEta2</th>\n",
       "      <th>JetPhi2</th>\n",
       "      <th>JetMass2</th>\n",
       "      <th>JetBTagger2</th>\n",
       "      <th>ExtraLepPt1</th>\n",
       "      <th>ExtraLepPhi1</th>\n",
       "      <th>ExtraLepEta1</th>\n",
       "      <th>weight</th>\n",
       "      <th>label</th>\n",
       "    </tr>\n",
       "  </thead>\n",
       "  <tbody>\n",
       "    <tr>\n",
       "      <th>7496</th>\n",
       "      <td>24.1909</td>\n",
       "      <td>162.7460</td>\n",
       "      <td>31.86730</td>\n",
       "      <td>35.5269</td>\n",
       "      <td>0.031161</td>\n",
       "      <td>-1.084870</td>\n",
       "      <td>-0.217913</td>\n",
       "      <td>-0.499708</td>\n",
       "      <td>-1.909610</td>\n",
       "      <td>-1.101370</td>\n",
       "      <td>...</td>\n",
       "      <td>75.8137</td>\n",
       "      <td>-1.178490</td>\n",
       "      <td>1.956440</td>\n",
       "      <td>9.03298</td>\n",
       "      <td>0.012424</td>\n",
       "      <td>14.1714</td>\n",
       "      <td>-2.137100</td>\n",
       "      <td>0.452280</td>\n",
       "      <td>0.000072</td>\n",
       "      <td>0</td>\n",
       "    </tr>\n",
       "    <tr>\n",
       "      <th>7497</th>\n",
       "      <td>105.2850</td>\n",
       "      <td>70.9915</td>\n",
       "      <td>12.10000</td>\n",
       "      <td>81.3316</td>\n",
       "      <td>0.189115</td>\n",
       "      <td>1.287100</td>\n",
       "      <td>0.743165</td>\n",
       "      <td>0.675071</td>\n",
       "      <td>1.055390</td>\n",
       "      <td>0.947068</td>\n",
       "      <td>...</td>\n",
       "      <td>114.9940</td>\n",
       "      <td>1.672570</td>\n",
       "      <td>-0.964091</td>\n",
       "      <td>17.91020</td>\n",
       "      <td>0.447669</td>\n",
       "      <td>28.6112</td>\n",
       "      <td>2.690080</td>\n",
       "      <td>-1.739000</td>\n",
       "      <td>0.000060</td>\n",
       "      <td>0</td>\n",
       "    </tr>\n",
       "    <tr>\n",
       "      <th>7498</th>\n",
       "      <td>77.0213</td>\n",
       "      <td>28.6309</td>\n",
       "      <td>11.71160</td>\n",
       "      <td>23.4228</td>\n",
       "      <td>-0.093287</td>\n",
       "      <td>1.730390</td>\n",
       "      <td>0.782272</td>\n",
       "      <td>0.429178</td>\n",
       "      <td>-0.129361</td>\n",
       "      <td>-1.161710</td>\n",
       "      <td>...</td>\n",
       "      <td>97.1350</td>\n",
       "      <td>-1.982220</td>\n",
       "      <td>-0.242977</td>\n",
       "      <td>14.21610</td>\n",
       "      <td>0.028420</td>\n",
       "      <td>24.3353</td>\n",
       "      <td>-3.068540</td>\n",
       "      <td>-0.716765</td>\n",
       "      <td>0.000087</td>\n",
       "      <td>0</td>\n",
       "    </tr>\n",
       "    <tr>\n",
       "      <th>7499</th>\n",
       "      <td>64.4011</td>\n",
       "      <td>28.3313</td>\n",
       "      <td>11.23500</td>\n",
       "      <td>17.3998</td>\n",
       "      <td>0.510646</td>\n",
       "      <td>-2.510480</td>\n",
       "      <td>-1.752650</td>\n",
       "      <td>-0.519232</td>\n",
       "      <td>0.477086</td>\n",
       "      <td>1.421940</td>\n",
       "      <td>...</td>\n",
       "      <td>106.0060</td>\n",
       "      <td>1.001600</td>\n",
       "      <td>1.277150</td>\n",
       "      <td>9.72068</td>\n",
       "      <td>0.016652</td>\n",
       "      <td>24.2179</td>\n",
       "      <td>-1.189860</td>\n",
       "      <td>0.130914</td>\n",
       "      <td>0.000061</td>\n",
       "      <td>0</td>\n",
       "    </tr>\n",
       "    <tr>\n",
       "      <th>7500</th>\n",
       "      <td>38.7214</td>\n",
       "      <td>14.7357</td>\n",
       "      <td>8.19858</td>\n",
       "      <td>15.9957</td>\n",
       "      <td>-2.314250</td>\n",
       "      <td>0.011534</td>\n",
       "      <td>-2.259060</td>\n",
       "      <td>-0.274397</td>\n",
       "      <td>-1.702020</td>\n",
       "      <td>0.796134</td>\n",
       "      <td>...</td>\n",
       "      <td>63.3445</td>\n",
       "      <td>-0.523344</td>\n",
       "      <td>0.697050</td>\n",
       "      <td>9.36421</td>\n",
       "      <td>0.935571</td>\n",
       "      <td>27.3380</td>\n",
       "      <td>-0.548966</td>\n",
       "      <td>-1.505040</td>\n",
       "      <td>0.000018</td>\n",
       "      <td>0</td>\n",
       "    </tr>\n",
       "  </tbody>\n",
       "</table>\n",
       "<p>5 rows × 27 columns</p>\n",
       "</div>"
      ],
      "text/plain": [
       "      LepPt[0]  LepPt[1]  LepPt[2]  LepPt[3]  LepPhi[0]  LepPhi[1]  LepPhi[2]  \\\n",
       "7496   24.1909  162.7460  31.86730   35.5269   0.031161  -1.084870  -0.217913   \n",
       "7497  105.2850   70.9915  12.10000   81.3316   0.189115   1.287100   0.743165   \n",
       "7498   77.0213   28.6309  11.71160   23.4228  -0.093287   1.730390   0.782272   \n",
       "7499   64.4011   28.3313  11.23500   17.3998   0.510646  -2.510480  -1.752650   \n",
       "7500   38.7214   14.7357   8.19858   15.9957  -2.314250   0.011534  -2.259060   \n",
       "\n",
       "      LepPhi[3]  LepEta[0]  LepEta[1]  ...    JetPt2   JetEta2   JetPhi2  \\\n",
       "7496  -0.499708  -1.909610  -1.101370  ...   75.8137 -1.178490  1.956440   \n",
       "7497   0.675071   1.055390   0.947068  ...  114.9940  1.672570 -0.964091   \n",
       "7498   0.429178  -0.129361  -1.161710  ...   97.1350 -1.982220 -0.242977   \n",
       "7499  -0.519232   0.477086   1.421940  ...  106.0060  1.001600  1.277150   \n",
       "7500  -0.274397  -1.702020   0.796134  ...   63.3445 -0.523344  0.697050   \n",
       "\n",
       "       JetMass2   JetBTagger2   ExtraLepPt1   ExtraLepPhi1   ExtraLepEta1  \\\n",
       "7496    9.03298      0.012424       14.1714      -2.137100       0.452280   \n",
       "7497   17.91020      0.447669       28.6112       2.690080      -1.739000   \n",
       "7498   14.21610      0.028420       24.3353      -3.068540      -0.716765   \n",
       "7499    9.72068      0.016652       24.2179      -1.189860       0.130914   \n",
       "7500    9.36421      0.935571       27.3380      -0.548966      -1.505040   \n",
       "\n",
       "        weight  label  \n",
       "7496  0.000072      0  \n",
       "7497  0.000060      0  \n",
       "7498  0.000087      0  \n",
       "7499  0.000061      0  \n",
       "7500  0.000018      0  \n",
       "\n",
       "[5 rows x 27 columns]"
      ]
     },
     "execution_count": 3,
     "metadata": {},
     "output_type": "execute_result"
    }
   ],
   "source": [
    "data2.shape\n",
    "data2.tail()"
   ]
  },
  {
   "cell_type": "code",
   "execution_count": 4,
   "metadata": {},
   "outputs": [],
   "source": [
    "X,Y=data2.iloc[:,:-2],data2.iloc[:,-1]\n",
    "weights=data2.iloc[:,-2]\n",
    "X_train, X_test, y_train, y_test,weight_train,weight_test= train_test_split(X, Y,weights,test_size=0.3, random_state=7)"
   ]
  },
  {
   "cell_type": "code",
   "execution_count": 5,
   "metadata": {},
   "outputs": [],
   "source": [
    "weight_train=weight_train*10**2\n",
    "weight_test=weight_test*10**2\n",
    "weight_train=np.asarray(weight_train)\n",
    "weight_test=np.asarray(weight_test)\n",
    "y_test=np.asarray(y_test)\n",
    "y_train=np.asarray(y_train)\n",
    "X_test=np.asarray(X_test)\n",
    "X_train=np.asarray(X_train)\n"
   ]
  },
  {
   "cell_type": "code",
   "execution_count": 6,
   "metadata": {},
   "outputs": [
    {
     "name": "stdout",
     "output_type": "stream",
     "text": [
      "Accuracy: 60.28%\n"
     ]
    }
   ],
   "source": [
    "# fit model no training data\n",
    "model = XGBClassifier()\n",
    "model.fit(X_train, y_train,sample_weight=weight_train)\n",
    "# make predictions for test data\n",
    "y_pred = model.predict(X_test)\n",
    "predictions = [round(value) for value in y_pred]\n",
    "# evaluate predictions\n",
    "accuracy = accuracy_score(y_test, predictions)\n",
    "print(\"Accuracy: %.2f%%\" % (accuracy * 100.0))"
   ]
  },
  {
   "cell_type": "code",
   "execution_count": 7,
   "metadata": {},
   "outputs": [],
   "source": [
    "from sklearn.metrics import roc_curve\n",
    "from sklearn.metrics import roc_auc_score\n",
    "from matplotlib import pyplot as plt"
   ]
  },
  {
   "cell_type": "code",
   "execution_count": 8,
   "metadata": {},
   "outputs": [
    {
     "name": "stdout",
     "output_type": "stream",
     "text": [
      "AUC: 0.653\n"
     ]
    },
    {
     "data": {
      "image/png": "[encoded data removed]",
      "text/plain": [
       "<Figure size 576x576 with 1 Axes>"
      ]
     },
     "metadata": {
      "needs_background": "light"
     },
     "output_type": "display_data"
    }
   ],
   "source": [
    "probs = model.predict_proba(X_test)\n",
    "# keep probabilities for the positive outcome only\n",
    "probs = probs[:, 1]\n",
    "# calculate AUC\n",
    "auc = roc_auc_score(y_test, probs,sample_weight=weight_test)\n",
    "print('AUC: %.3f' % auc)\n",
    "# calculate roc curve\n",
    "fpr, tpr, thresholds = roc_curve(y_test, probs,sample_weight=weight_test)\n",
    "# plot the roc curve for the model\n",
    "plt.figure(figsize=(8,8))\n",
    "plt.plot(tpr, 1-fpr,linewidth=2)\n",
    "# show the plot\n",
    "plt.xlabel(\"sensitivity\",fontsize=14)\n",
    "plt.ylabel(\"specificity\",fontsize=14)\n",
    "plt.tick_params(axis=\"both\",labelsize=14)\n",
    "plt.show()"
   ]
  },
  {
   "cell_type": "code",
   "execution_count": 9,
   "metadata": {},
   "outputs": [
    {
     "data": {
      "text/plain": [
       "array([0.47499353, 0.53693354, 0.3754518 , ..., 0.3916656 , 0.63618773,\n",
       "       0.5343042 ], dtype=float32)"
      ]
     },
     "execution_count": 9,
     "metadata": {},
     "output_type": "execute_result"
    }
   ],
   "source": [
    "probs"
   ]
  },
  {
   "cell_type": "code",
   "execution_count": 10,
   "metadata": {},
   "outputs": [
    {
     "name": "stdout",
     "output_type": "stream",
     "text": [
      "0.7957515018894119\n",
      "0.7945223014736797\n"
     ]
    }
   ],
   "source": [
    "for kk in range(tpr.size):\n",
    "    if(round(tpr[kk],3)==0.400):\n",
    "        speci=1-fpr[kk]\n",
    "        print(speci)"
   ]
  },
  {
   "cell_type": "code",
   "execution_count": 11,
   "metadata": {},
   "outputs": [],
   "source": [
    "filename=\"xgboost_lep.CSV\"\n",
    "with open(filename,\"w\") as file:\n",
    "    for kk in range(tpr.size):\n",
    "        file.write(str(fpr[kk]))\n",
    "        file.write(\" \")\n",
    "        file.write(str(tpr[kk]))\n",
    "        file.write(\"\\n\")"
   ]
  },
  {
   "cell_type": "code",
   "execution_count": 12,
   "metadata": {},
   "outputs": [
    {
     "data": {
      "text/plain": [
       "2252"
      ]
     },
     "execution_count": 12,
     "metadata": {},
     "output_type": "execute_result"
    }
   ],
   "source": [
    "fpr.size"
   ]
  },
  {
   "cell_type": "code",
   "execution_count": 13,
   "metadata": {},
   "outputs": [
    {
     "data": {
      "text/plain": [
       "2252"
      ]
     },
     "execution_count": 13,
     "metadata": {},
     "output_type": "execute_result"
    }
   ],
   "source": [
    "tpr.size"
   ]
  },
  {
   "cell_type": "code",
   "execution_count": 14,
   "metadata": {},
   "outputs": [],
   "source": [
    "sig_probs=[]\n",
    "bkg_probs=[]\n",
    "sig_weight=[]\n",
    "bkg_weight=[]\n",
    "for index in range(y_test.shape[0]):\n",
    "    if(y_test[index]==1.0):\n",
    "        sig_probs.append(probs[index])\n",
    "        sig_weight.append(weight_test[index])\n",
    "    else:\n",
    "        bkg_probs.append(probs[index])\n",
    "        bkg_weight.append(weight_test[index])"
   ]
  },
  {
   "cell_type": "code",
   "execution_count": 17,
   "metadata": {},
   "outputs": [
    {
     "data": {
      "image/png": "[encoded data removed]",
      "text/plain": [
       "<Figure size 864x864 with 1 Axes>"
      ]
     },
     "metadata": {
      "needs_background": "light"
     },
     "output_type": "display_data"
    }
   ],
   "source": [
    "plt.figure(3)\n",
    "plt.rcParams['figure.figsize'] = [12, 12]\n",
    "\n",
    "plt.hist(sig_probs,bins=40,density=True,alpha=0.5,label=\"CP:Even\");\n",
    "plt.hist(bkg_probs,bins=40,density=True,alpha=0.5,label=\"CP:Odd\");\n",
    "plt.legend(loc='upper right',fontsize=24)\n",
    "plt.title(\"Distribution of response value of XGBoost\",fontsize=24)\n",
    "plt.xlabel(\"Response Value\",fontsize=24)\n",
    "plt.ylabel(\"Desity\",fontsize=24)\n",
    "plt.xticks(fontsize=18)\n",
    "plt.yticks(fontsize=18)\n",
    "plt.savefig('xgboost_lep_output.png')\n",
    "plt.show()"
   ]
  },
  {
   "cell_type": "code",
   "execution_count": 16,
   "metadata": {},
   "outputs": [
    {
     "name": "stdout",
     "output_type": "stream",
     "text": [
      "Welcome to JupyROOT 6.19/01\n"
     ]
    }
   ],
   "source": [
    "from ROOT import TFile, TH1F\n",
    "file=TFile(\"xgboost_lep_hist.root\",\"RECREATE\")\n",
    "h1=TH1F(\"sig\",\"histo of signal\",40,0,1)\n",
    "h2=TH1F(\"bkg\",\"histo of background\",40,0,1)\n",
    "for kk in range(len(sig_probs)):\n",
    "    h1.Fill(sig_probs[kk],sig_weight[kk])\n",
    "for kk in range(len(bkg_probs)):\n",
    "    h2.Fill(bkg_probs[kk],bkg_weight[kk])\n",
    "inte1=h2.Integral(\"width\")\n",
    "scale1=1/h1.Integral(\"width\")\n",
    "scale2=1/h2.Integral(\"width\")\n",
    "h1.Scale(scale1)\n",
    "h2.Scale(scale2)\n",
    "file.Write();"
   ]
  },
  {
   "cell_type": "code",
   "execution_count": null,
   "metadata": {},
   "outputs": [],
   "source": []
  }
 ],
 "metadata": {
  "kernelspec": {
   "display_name": "Python 3",
   "language": "python",
   "name": "python3"
  },
  "language_info": {
   "codemirror_mode": {
    "name": "ipython",
    "version": 3
   },
   "file_extension": ".py",
   "mimetype": "text/x-python",
   "name": "python",
   "nbconvert_exporter": "python",
   "pygments_lexer": "ipython3",
   "version": "3.7.3"
  }
 },
 "nbformat": 4,
 "nbformat_minor": 2
}

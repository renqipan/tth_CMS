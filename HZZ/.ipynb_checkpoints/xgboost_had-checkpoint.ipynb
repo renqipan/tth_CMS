{
 "cells": [
  {
   "cell_type": "code",
   "execution_count": 1,
   "metadata": {},
   "outputs": [],
   "source": [
    "from xgboost import XGBClassifier\n",
    "from sklearn.model_selection import train_test_split\n",
    "from sklearn.metrics import accuracy_score\n",
    "import pandas as pd\n",
    "import xgboost as xgb\n",
    "import numpy as np"
   ]
  },
  {
   "cell_type": "code",
   "execution_count": 2,
   "metadata": {},
   "outputs": [],
   "source": [
    "datasig=pd.read_csv(\"sig_had_values.csv\")\n",
    "databkg=pd.read_csv(\"bkg_had_values.csv\")\n",
    "databkg[\"label\"]=0\n",
    "datasig[\"label\"]=1\n",
    "\n",
    "data2=datasig.append(databkg,ignore_index=True)"
   ]
  },
  {
   "cell_type": "code",
   "execution_count": 3,
   "metadata": {},
   "outputs": [
    {
     "data": {
      "text/html": [
       "<div>\n",
       "<style scoped>\n",
       "    .dataframe tbody tr th:only-of-type {\n",
       "        vertical-align: middle;\n",
       "    }\n",
       "\n",
       "    .dataframe tbody tr th {\n",
       "        vertical-align: top;\n",
       "    }\n",
       "\n",
       "    .dataframe thead th {\n",
       "        text-align: right;\n",
       "    }\n",
       "</style>\n",
       "<table border=\"1\" class=\"dataframe\">\n",
       "  <thead>\n",
       "    <tr style=\"text-align: right;\">\n",
       "      <th></th>\n",
       "      <th>JetPt1</th>\n",
       "      <th>JetEta1</th>\n",
       "      <th>JetPhi1</th>\n",
       "      <th>JetMass1</th>\n",
       "      <th>JetBTagger1</th>\n",
       "      <th>JetPt2</th>\n",
       "      <th>JetEta2</th>\n",
       "      <th>JetPhi2</th>\n",
       "      <th>JetMass2</th>\n",
       "      <th>JetBTagger2</th>\n",
       "      <th>...</th>\n",
       "      <th>JetEta4</th>\n",
       "      <th>JetPhi4</th>\n",
       "      <th>JetMass4</th>\n",
       "      <th>JetBTagger4</th>\n",
       "      <th>ZZPt</th>\n",
       "      <th>ZZPhi</th>\n",
       "      <th>ZZEta</th>\n",
       "      <th>ZZMass</th>\n",
       "      <th>weight</th>\n",
       "      <th>label</th>\n",
       "    </tr>\n",
       "  </thead>\n",
       "  <tbody>\n",
       "    <tr>\n",
       "      <th>0</th>\n",
       "      <td>167.150</td>\n",
       "      <td>-0.776438</td>\n",
       "      <td>1.440750</td>\n",
       "      <td>25.8188</td>\n",
       "      <td>0.179759</td>\n",
       "      <td>70.7794</td>\n",
       "      <td>-0.154553</td>\n",
       "      <td>0.350386</td>\n",
       "      <td>14.0573</td>\n",
       "      <td>0.975653</td>\n",
       "      <td>...</td>\n",
       "      <td>-0.483385</td>\n",
       "      <td>2.91395</td>\n",
       "      <td>3.70648</td>\n",
       "      <td>0.010560</td>\n",
       "      <td>219.4010</td>\n",
       "      <td>-1.789890</td>\n",
       "      <td>-1.116720</td>\n",
       "      <td>126.792</td>\n",
       "      <td>0.000056</td>\n",
       "      <td>1</td>\n",
       "    </tr>\n",
       "    <tr>\n",
       "      <th>1</th>\n",
       "      <td>133.301</td>\n",
       "      <td>-0.884264</td>\n",
       "      <td>-0.267022</td>\n",
       "      <td>19.3262</td>\n",
       "      <td>0.014708</td>\n",
       "      <td>113.6030</td>\n",
       "      <td>-0.802912</td>\n",
       "      <td>-1.724960</td>\n",
       "      <td>19.7239</td>\n",
       "      <td>0.973898</td>\n",
       "      <td>...</td>\n",
       "      <td>-1.717180</td>\n",
       "      <td>2.89912</td>\n",
       "      <td>10.40980</td>\n",
       "      <td>0.033225</td>\n",
       "      <td>249.7370</td>\n",
       "      <td>0.916814</td>\n",
       "      <td>-0.739110</td>\n",
       "      <td>127.321</td>\n",
       "      <td>0.000072</td>\n",
       "      <td>1</td>\n",
       "    </tr>\n",
       "    <tr>\n",
       "      <th>2</th>\n",
       "      <td>173.966</td>\n",
       "      <td>-0.646671</td>\n",
       "      <td>-2.781010</td>\n",
       "      <td>17.7597</td>\n",
       "      <td>0.213439</td>\n",
       "      <td>113.9620</td>\n",
       "      <td>-0.347223</td>\n",
       "      <td>1.699790</td>\n",
       "      <td>21.0720</td>\n",
       "      <td>0.446442</td>\n",
       "      <td>...</td>\n",
       "      <td>-0.093808</td>\n",
       "      <td>-2.43640</td>\n",
       "      <td>10.95780</td>\n",
       "      <td>0.023086</td>\n",
       "      <td>217.2710</td>\n",
       "      <td>-0.333024</td>\n",
       "      <td>0.374378</td>\n",
       "      <td>123.908</td>\n",
       "      <td>0.000042</td>\n",
       "      <td>1</td>\n",
       "    </tr>\n",
       "    <tr>\n",
       "      <th>3</th>\n",
       "      <td>123.883</td>\n",
       "      <td>0.599243</td>\n",
       "      <td>-1.795990</td>\n",
       "      <td>15.0571</td>\n",
       "      <td>0.992366</td>\n",
       "      <td>119.9060</td>\n",
       "      <td>-0.912783</td>\n",
       "      <td>1.646610</td>\n",
       "      <td>23.6522</td>\n",
       "      <td>0.079898</td>\n",
       "      <td>...</td>\n",
       "      <td>-0.907467</td>\n",
       "      <td>1.07840</td>\n",
       "      <td>9.10459</td>\n",
       "      <td>0.237895</td>\n",
       "      <td>11.0847</td>\n",
       "      <td>0.406864</td>\n",
       "      <td>2.851050</td>\n",
       "      <td>135.255</td>\n",
       "      <td>0.000047</td>\n",
       "      <td>1</td>\n",
       "    </tr>\n",
       "    <tr>\n",
       "      <th>4</th>\n",
       "      <td>131.413</td>\n",
       "      <td>-1.466730</td>\n",
       "      <td>-2.230160</td>\n",
       "      <td>17.1440</td>\n",
       "      <td>0.974358</td>\n",
       "      <td>82.7551</td>\n",
       "      <td>-1.334420</td>\n",
       "      <td>2.084190</td>\n",
       "      <td>10.2249</td>\n",
       "      <td>0.088999</td>\n",
       "      <td>...</td>\n",
       "      <td>-0.760526</td>\n",
       "      <td>0.73594</td>\n",
       "      <td>9.12132</td>\n",
       "      <td>0.029613</td>\n",
       "      <td>94.3562</td>\n",
       "      <td>1.316190</td>\n",
       "      <td>-1.236170</td>\n",
       "      <td>124.261</td>\n",
       "      <td>0.000022</td>\n",
       "      <td>1</td>\n",
       "    </tr>\n",
       "  </tbody>\n",
       "</table>\n",
       "<p>5 rows × 26 columns</p>\n",
       "</div>"
      ],
      "text/plain": [
       "    JetPt1   JetEta1   JetPhi1   JetMass1   JetBTagger1    JetPt2   JetEta2  \\\n",
       "0  167.150 -0.776438  1.440750    25.8188      0.179759   70.7794 -0.154553   \n",
       "1  133.301 -0.884264 -0.267022    19.3262      0.014708  113.6030 -0.802912   \n",
       "2  173.966 -0.646671 -2.781010    17.7597      0.213439  113.9620 -0.347223   \n",
       "3  123.883  0.599243 -1.795990    15.0571      0.992366  119.9060 -0.912783   \n",
       "4  131.413 -1.466730 -2.230160    17.1440      0.974358   82.7551 -1.334420   \n",
       "\n",
       "    JetPhi2   JetMass2   JetBTagger2  ...   JetEta4   JetPhi4   JetMass4  \\\n",
       "0  0.350386    14.0573      0.975653  ... -0.483385   2.91395    3.70648   \n",
       "1 -1.724960    19.7239      0.973898  ... -1.717180   2.89912   10.40980   \n",
       "2  1.699790    21.0720      0.446442  ... -0.093808  -2.43640   10.95780   \n",
       "3  1.646610    23.6522      0.079898  ... -0.907467   1.07840    9.10459   \n",
       "4  2.084190    10.2249      0.088999  ... -0.760526   0.73594    9.12132   \n",
       "\n",
       "    JetBTagger4      ZZPt     ZZPhi     ZZEta   ZZMass    weight  label  \n",
       "0      0.010560  219.4010 -1.789890 -1.116720  126.792  0.000056      1  \n",
       "1      0.033225  249.7370  0.916814 -0.739110  127.321  0.000072      1  \n",
       "2      0.023086  217.2710 -0.333024  0.374378  123.908  0.000042      1  \n",
       "3      0.237895   11.0847  0.406864  2.851050  135.255  0.000047      1  \n",
       "4      0.029613   94.3562  1.316190 -1.236170  124.261  0.000022      1  \n",
       "\n",
       "[5 rows x 26 columns]"
      ]
     },
     "execution_count": 3,
     "metadata": {},
     "output_type": "execute_result"
    }
   ],
   "source": [
    "data2.shape\n",
    "data2.head()"
   ]
  },
  {
   "cell_type": "code",
   "execution_count": 4,
   "metadata": {},
   "outputs": [],
   "source": [
    "X,Y=data2.iloc[:,:-2],data2.iloc[:,-1]\n",
    "weights=data2.iloc[:,-2]\n",
    "X_train, X_test, y_train, y_test,weight_train,weight_test= train_test_split(X, Y,weights,test_size=0.3, random_state=7)"
   ]
  },
  {
   "cell_type": "code",
   "execution_count": 5,
   "metadata": {},
   "outputs": [],
   "source": [
    "weight_train=weight_train*10**2\n",
    "weight_test=weight_test*10**2\n",
    "weight_train=np.asarray(weight_train)\n",
    "weight_test=np.asarray(weight_test)\n",
    "y_test=np.asarray(y_test)\n",
    "y_train=np.asarray(y_train)\n",
    "X_test=np.asarray(X_test)\n",
    "X_train=np.asarray(X_train)\n"
   ]
  },
  {
   "cell_type": "code",
   "execution_count": 6,
   "metadata": {},
   "outputs": [
    {
     "name": "stdout",
     "output_type": "stream",
     "text": [
      "Accuracy: 63.91%\n"
     ]
    }
   ],
   "source": [
    "# fit model no training data\n",
    "model = XGBClassifier()\n",
    "model.fit(X_train, y_train,sample_weight=weight_train)\n",
    "# make predictions for test data\n",
    "y_pred = model.predict(X_test)\n",
    "predictions = [round(value) for value in y_pred]\n",
    "# evaluate predictions\n",
    "accuracy = accuracy_score(y_test, predictions)\n",
    "print(\"Accuracy: %.2f%%\" % (accuracy * 100.0))"
   ]
  },
  {
   "cell_type": "code",
   "execution_count": 7,
   "metadata": {},
   "outputs": [],
   "source": [
    "from sklearn.metrics import roc_curve\n",
    "from sklearn.metrics import roc_auc_score\n",
    "from matplotlib import pyplot as plt"
   ]
  },
  {
   "cell_type": "code",
   "execution_count": 8,
   "metadata": {},
   "outputs": [
    {
     "name": "stdout",
     "output_type": "stream",
     "text": [
      "AUC: 0.684\n"
     ]
    },
    {
     "data": {
      "image/png": "[encoded data removed]",
      "text/plain": [
       "<Figure size 576x576 with 1 Axes>"
      ]
     },
     "metadata": {
      "needs_background": "light"
     },
     "output_type": "display_data"
    }
   ],
   "source": [
    "probs = model.predict_proba(X_test)\n",
    "# keep probabilities for the positive outcome only\n",
    "probs = probs[:, 1]\n",
    "# calculate AUC\n",
    "auc = roc_auc_score(y_test, probs,sample_weight=weight_test)\n",
    "print('AUC: %.3f' % auc)\n",
    "# calculate roc curve\n",
    "fpr, tpr, thresholds = roc_curve(y_test, probs,sample_weight=weight_test)\n",
    "# plot the roc curve for the model\n",
    "plt.figure(figsize=(8,8))\n",
    "plt.plot(tpr, 1-fpr,linewidth=2)\n",
    "# show the plot\n",
    "plt.xlabel(\"sensitivity\",fontsize=14)\n",
    "plt.ylabel(\"specificity\",fontsize=14)\n",
    "plt.tick_params(axis=\"both\",labelsize=14)\n",
    "plt.show()"
   ]
  },
  {
   "cell_type": "code",
   "execution_count": 9,
   "metadata": {},
   "outputs": [
    {
     "name": "stdout",
     "output_type": "stream",
     "text": [
      "0.829733887367416\n",
      "0.8288582246176575\n"
     ]
    }
   ],
   "source": [
    "for kk in range(tpr.size):\n",
    "    if(round(tpr[kk],3)==0.400):\n",
    "        speci=1-fpr[kk]\n",
    "        print(speci)"
   ]
  },
  {
   "cell_type": "code",
   "execution_count": 10,
   "metadata": {},
   "outputs": [],
   "source": [
    "filename=\"xgboost_had.CSV\"\n",
    "with open(filename,\"w\") as file:\n",
    "    for kk in range(tpr.size):\n",
    "        file.write(str(fpr[kk]))\n",
    "        file.write(\" \")\n",
    "        file.write(str(tpr[kk]))\n",
    "        file.write(\"\\n\")"
   ]
  },
  {
   "cell_type": "code",
   "execution_count": 11,
   "metadata": {},
   "outputs": [
    {
     "data": {
      "text/plain": [
       "2980"
      ]
     },
     "execution_count": 11,
     "metadata": {},
     "output_type": "execute_result"
    }
   ],
   "source": [
    "fpr.size"
   ]
  },
  {
   "cell_type": "code",
   "execution_count": 12,
   "metadata": {},
   "outputs": [
    {
     "data": {
      "text/plain": [
       "2980"
      ]
     },
     "execution_count": 12,
     "metadata": {},
     "output_type": "execute_result"
    }
   ],
   "source": [
    "tpr.size"
   ]
  },
  {
   "cell_type": "code",
   "execution_count": 13,
   "metadata": {},
   "outputs": [],
   "source": [
    "sig_probs=[]\n",
    "bkg_probs=[]\n",
    "sig_weight=[]\n",
    "bkg_weight=[]\n",
    "for index in range(y_test.shape[0]):\n",
    "    if(y_test[index]==1.0):\n",
    "        sig_probs.append(probs[index])\n",
    "        sig_weight.append(weight_test[index])\n",
    "    else:\n",
    "        bkg_probs.append(probs[index])\n",
    "        bkg_weight.append(weight_test[index])"
   ]
  },
  {
   "cell_type": "code",
   "execution_count": 14,
   "metadata": {},
   "outputs": [
    {
     "data": {
      "image/png": "[encoded data removed]",
      "text/plain": [
       "<Figure size 432x288 with 1 Axes>"
      ]
     },
     "metadata": {
      "needs_background": "light"
     },
     "output_type": "display_data"
    }
   ],
   "source": [
    "plt.figure(3)\n",
    "plt.rcParams['figure.figsize'] = [12, 12]\n",
    "\n",
    "plt.hist(sig_probs,bins=100,density=True,alpha=0.6,label=\"CP:Even\");\n",
    "plt.hist(bkg_probs,bins=100,density=True,alpha=0.6,label=\"CP:Odd\");\n",
    "plt.legend(loc='upper right',fontsize=24)\n",
    "plt.title(\"Distribution of response value of XGBoost\",fontsize=24)\n",
    "plt.xlabel(\"Response Value\",fontsize=24)\n",
    "plt.ylabel(\"Desity\",fontsize=24)\n",
    "plt.xticks(fontsize=18)\n",
    "plt.yticks(fontsize=18)\n",
    "plt.savefig('xgboost_had_output.png')\n",
    "plt.show()"
   ]
  },
  {
   "cell_type": "code",
   "execution_count": 15,
   "metadata": {},
   "outputs": [
    {
     "data": {
      "text/plain": [
       "array([1.7534306 , 0.75343066, 0.7335599 , ..., 0.17911676, 0.17777346,\n",
       "       0.17615716], dtype=float32)"
      ]
     },
     "execution_count": 15,
     "metadata": {},
     "output_type": "execute_result"
    }
   ],
   "source": [
    "thresholds"
   ]
  },
  {
   "cell_type": "code",
   "execution_count": 16,
   "metadata": {},
   "outputs": [
    {
     "name": "stdout",
     "output_type": "stream",
     "text": [
      "Welcome to JupyROOT 6.19/01\n"
     ]
    }
   ],
   "source": [
    "from ROOT import TFile, TH1F\n",
    "file=TFile(\"xgboost_had_hist.root\",\"RECREATE\")\n",
    "h1=TH1F(\"sig\",\"histo of signal\",100,0,1)\n",
    "h2=TH1F(\"bkg\",\"histo of background\",100,0,1)\n",
    "for kk in range(len(sig_probs)):\n",
    "    h1.Fill(sig_probs[kk],sig_weight[kk])\n",
    "for kk in range(len(bkg_probs)):\n",
    "    h2.Fill(bkg_probs[kk],bkg_weight[kk])\n",
    "inte1=h2.Integral(\"width\")\n",
    "scale1=1/h1.Integral(\"width\")\n",
    "scale2=1/h2.Integral(\"width\")\n",
    "h1.Scale(scale1)\n",
    "h2.Scale(scale2)\n",
    "file.Write();"
   ]
  },
  {
   "cell_type": "code",
   "execution_count": null,
   "metadata": {},
   "outputs": [],
   "source": []
  }
 ],
 "metadata": {
  "kernelspec": {
   "display_name": "Python 3",
   "language": "python",
   "name": "python3"
  },
  "language_info": {
   "codemirror_mode": {
    "name": "ipython",
    "version": 3
   },
   "file_extension": ".py",
   "mimetype": "text/x-python",
   "name": "python",
   "nbconvert_exporter": "python",
   "pygments_lexer": "ipython3",
   "version": "3.7.3"
  }
 },
 "nbformat": 4,
 "nbformat_minor": 2
}
